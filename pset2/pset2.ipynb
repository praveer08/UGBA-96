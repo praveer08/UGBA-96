{
 "cells": [
  {
   "cell_type": "markdown",
   "metadata": {},
   "source": [
    "## Problem Set 2\n",
    "### UGBA 96: Data and Decisions, Spring 2018"
   ]
  },
  {
   "cell_type": "code",
   "execution_count": null,
   "metadata": {},
   "outputs": [],
   "source": [
    "from datascience import *\n",
    "import numpy as np\n",
    "\n",
    "%matplotlib inline"
   ]
  },
  {
   "cell_type": "markdown",
   "metadata": {},
   "source": [
    "Deadline:\n",
    "\n",
    "This assignment is due Monday, March 5th at 1pm. Late work will not be accepted.\n",
    "\n",
    "You should start early so that you have time to get help if you're stuck. Drop-in office hours will be held Monday-Friday. Check the syllabus and recent announcements for the office hours schedule."
   ]
  },
  {
   "cell_type": "markdown",
   "metadata": {},
   "source": [
    "## Question 1\n",
    "\n",
    "(20 points) This question goes over the potential outcomes framework. For answering the questions below, the outcome is *having a headache* and the treatment is *taking an aspirin*."
   ]
  },
  {
   "cell_type": "markdown",
   "metadata": {},
   "source": [
    "a. (5 points) Explain the meaning of $Y_{i0}$."
   ]
  },
  {
   "cell_type": "raw",
   "metadata": {},
   "source": []
  },
  {
   "cell_type": "markdown",
   "metadata": {},
   "source": [
    "b. (5 points) Explain the meaning of $E[Y_{i0}]$."
   ]
  },
  {
   "cell_type": "raw",
   "metadata": {},
   "source": []
  },
  {
   "cell_type": "markdown",
   "metadata": {},
   "source": [
    "c. (5 points) Explain the meaning of $E[Y_{i0} | T_{i} = 1].$ How does it differ from $E[Y_{i0}]$."
   ]
  },
  {
   "cell_type": "raw",
   "metadata": {},
   "source": []
  },
  {
   "cell_type": "markdown",
   "metadata": {},
   "source": [
    "d. (5 points) Explain why the selection bias term\n",
    "$$E[Y_{i0} | T_{i} = 1] - E[Y_{i0} | T_{i} = 0]$$\n",
    "is zero when $T_{i}$ is randomly assigned."
   ]
  },
  {
   "cell_type": "raw",
   "metadata": {},
   "source": []
  },
  {
   "cell_type": "markdown",
   "metadata": {},
   "source": [
    "## Question 2\n",
    "\n",
    "(10 points) A retailer is evaluating a new training program for its new sales associates. The goal is to reduce the turnover rate–in particular, the percentage of employees that leave the job within 6 months. The program includes modules on customer service and management skills. Admission to the program is voluntary. According to a company spokesman those who complete the program are less likely to leave the company than other employees. The spokesman argues that this proves the program is effective."
   ]
  },
  {
   "cell_type": "markdown",
   "metadata": {},
   "source": [
    "a. (5 points) What defines treatment group and control group in the spokesman's comparison?"
   ]
  },
  {
   "cell_type": "raw",
   "metadata": {},
   "source": []
  },
  {
   "cell_type": "markdown",
   "metadata": {},
   "source": [
    "b. (5 points) Why might the spokesman's conclusion be mistaken?"
   ]
  },
  {
   "cell_type": "raw",
   "metadata": {},
   "source": []
  },
  {
   "cell_type": "markdown",
   "metadata": {},
   "source": [
    "## Question 3\n",
    "\n",
    "(10 points) An advertisement for realtors claims that growing up in an owner-occupied home makes children more likely to go to college than if they grow up in a rental."
   ]
  },
  {
   "cell_type": "markdown",
   "metadata": {},
   "source": [
    "a. (5 points) Describe the treatment, control, and potential outcomes for this causal claim."
   ]
  },
  {
   "cell_type": "raw",
   "metadata": {},
   "source": []
  },
  {
   "cell_type": "markdown",
   "metadata": {},
   "source": [
    "b. (5 points) Describe a possible form of selection bias."
   ]
  },
  {
   "cell_type": "raw",
   "metadata": {},
   "source": []
  },
  {
   "cell_type": "markdown",
   "metadata": {},
   "source": [
    "## Question 4\n",
    "\n",
    "(10 points) A campus brand ambassador for a snack box subscription service seeks to assess the effect of receiving a free sample on students’ future subscription purchases. A list of student dorm rooms is drawn up and sorted randomly. Dorm rooms in the first half of the randomly sorted list receive a snack box at their door; dorm rooms in the second half of the list do not receive a snack box."
   ]
  },
  {
   "cell_type": "markdown",
   "metadata": {},
   "source": [
    "a. (2 points) What is the outcome of interest in this experiment?"
   ]
  },
  {
   "cell_type": "raw",
   "metadata": {},
   "source": []
  },
  {
   "cell_type": "markdown",
   "metadata": {},
   "source": [
    "b. (2 points) What is the treatment condition in this experiment?"
   ]
  },
  {
   "cell_type": "raw",
   "metadata": {},
   "source": []
  },
  {
   "cell_type": "markdown",
   "metadata": {},
   "source": [
    "c. (6 points) Suppose that students in the treatment group share their free snacks with dormmates. What complications, if any, does this present for the potential outcomes framework?"
   ]
  },
  {
   "cell_type": "code",
   "execution_count": null,
   "metadata": {},
   "outputs": [],
   "source": []
  },
  {
   "cell_type": "markdown",
   "metadata": {},
   "source": [
    "## Question 5\n",
    "\n",
    "(50 points) In this question we will analyze data from the Oregon Health Study, discussed in detail in Chapter 1 of *Mastering ’Metrics.* Recall that there is non-compliance in this experiment: there are participants that win the lottery that *do not* ultimately enroll in Medicaid, and there are participants that do not win the lottery that *do* enroll Medicaid. We will the estimate the causal effect of Medicaid coverage in this context.\n",
    "\n",
    "(Technical note: the results from this exercise will not match the results presented in the book exactly. In particular, the data we use here are limited to participants that live alone. We do this because including participants from larger households complicates the analysis in ways that are outside the scope of this problem set. For more details, read the paper on the Oregon Health Study cited in *Mastering 'Metrics*.)"
   ]
  },
  {
   "cell_type": "code",
   "execution_count": null,
   "metadata": {},
   "outputs": [],
   "source": [
    "#run this cell to read in the data\n",
    "ohs = Table.read_table(\"ohs_final.csv\")\n",
    "ohs"
   ]
  },
  {
   "cell_type": "markdown",
   "metadata": {},
   "source": [
    "a. (4 points) The column `any_medicaid` defines whether a participant is with or without Medcaid coverage. Compare the following columns for those two groups:\n",
    "\n",
    "* `doc_any`: indicator for any primary care doctor visits\n",
    "\n",
    "* `cost_any_owe`: indicator for currently owing any money for medical expenses\n",
    "\n",
    "* `poor_health`: indicator for self-reported poor health (5 point scale)\n",
    "\n",
    "* `female`: indicator for female participant\n",
    "\n",
    "That is, compute the means of each outcome by group, and then compute the difference in means."
   ]
  },
  {
   "cell_type": "code",
   "execution_count": null,
   "metadata": {},
   "outputs": [],
   "source": []
  },
  {
   "cell_type": "markdown",
   "metadata": {},
   "source": [
    "b. (4 points) How do you interpret these differences? What *causal effect* do these differences reflect, if any?"
   ]
  },
  {
   "cell_type": "raw",
   "metadata": {},
   "source": []
  },
  {
   "cell_type": "markdown",
   "metadata": {},
   "source": [
    "c. (4 points) Now, compare the same outcomes for lottery winners and losers. This is defined by the column `treatment`."
   ]
  },
  {
   "cell_type": "code",
   "execution_count": null,
   "metadata": {},
   "outputs": [],
   "source": []
  },
  {
   "cell_type": "markdown",
   "metadata": {},
   "source": [
    "d. (4 points) How do you interpret these differences? What *causal effect* do these differences reflect, if any?"
   ]
  },
  {
   "cell_type": "raw",
   "metadata": {},
   "source": []
  },
  {
   "cell_type": "markdown",
   "metadata": {},
   "source": [
    "Let's use this experiment to estimate the causal effect of Medicaid coverage. To do that, we will *instrument* for Medcaid coverage using the `treatment`, the indicator for winning the lottery.\n",
    "\n",
    "e. (6 points) What conditions are required for this approach to be valid? Describe these conditions in the context of this experiment."
   ]
  },
  {
   "cell_type": "raw",
   "metadata": {},
   "source": []
  },
  {
   "cell_type": "markdown",
   "metadata": {},
   "source": [
    "f. (4 points) An administrator of Oregon’s Supplemental Nutrition Assistance Program (SNAP, more commonly known as food stamps) believes that winning the Medicaid lottery may encourage individuals to enroll in SNAP, even if they do not ultimately enroll in Medicaid. What implications does this have for the proposed instrumental variable strategy for estimating the causal effect of Medicaid coverage for the outcomes mentioned above (e.g., `health_gen`)?"
   ]
  },
  {
   "cell_type": "raw",
   "metadata": {},
   "source": []
  },
  {
   "cell_type": "markdown",
   "metadata": {},
   "source": [
    "g. (5 points) What is the *first stage*? Recall that we are interested in the causal effect of Medicaid coverage, reflected in `any_medicaid`."
   ]
  },
  {
   "cell_type": "code",
   "execution_count": null,
   "metadata": {},
   "outputs": [],
   "source": []
  },
  {
   "cell_type": "markdown",
   "metadata": {},
   "source": [
    "h. (4 points) In the context of this experiment, what defines a *complier*?"
   ]
  },
  {
   "cell_type": "raw",
   "metadata": {},
   "source": []
  },
  {
   "cell_type": "markdown",
   "metadata": {},
   "source": [
    "i. (5 points) For simplicity, let’s assume the monotincity condition holds. That is, there are no defiers. Based on the data, what is the approximate share of users that are compliers? Always-takers? Never-takers?"
   ]
  },
  {
   "cell_type": "raw",
   "metadata": {},
   "source": []
  },
  {
   "cell_type": "markdown",
   "metadata": {},
   "source": [
    "j. (6 points) Write a function that calculates the *Local Average Treatment Effect* for a given outcome, treatment, and instrument."
   ]
  },
  {
   "cell_type": "code",
   "execution_count": null,
   "metadata": {},
   "outputs": [],
   "source": []
  },
  {
   "cell_type": "markdown",
   "metadata": {},
   "source": [
    "k. (4 points) Apply that function here for the outcome `cost_any_owe`, and describe your findings in a sentence. (If you're unable to create the function, just compute the LATE manually.)"
   ]
  },
  {
   "cell_type": "code",
   "execution_count": null,
   "metadata": {},
   "outputs": [],
   "source": []
  },
  {
   "cell_type": "raw",
   "metadata": {},
   "source": [
    "#describe your findings in a sentence"
   ]
  },
  {
   "cell_type": "markdown",
   "metadata": {},
   "source": [
    "## Question 6\n",
    "\n",
    "(25 points) Walmart is introducing a paid subscription service similar to Amazon Prime. For an annual fee, subscribers will have access to free two-day delivery for online purchases. Walmart would like to know the effect of a customer subscribing to the service on the profits associated with that customer. As a promotional tool, Walmart sends emails to its customers advertising the program. All customers in these markets can sign up for the program, including those that do not receive promotional emails, but email advertisements typically increase sign-ups."
   ]
  },
  {
   "cell_type": "markdown",
   "metadata": {},
   "source": [
    "a. (10 points) How could you use this email campaign in an encouragement design experiment that would yield an estimate for the causal effect of a customer's subscription on profits? Be sure to describe the treatment and control groups."
   ]
  },
  {
   "cell_type": "raw",
   "metadata": {},
   "source": []
  },
  {
   "cell_type": "markdown",
   "metadata": {},
   "source": [
    "b. (5 points) What defines a *complier* in this experiment?"
   ]
  },
  {
   "cell_type": "raw",
   "metadata": {},
   "source": []
  },
  {
   "cell_type": "markdown",
   "metadata": {},
   "source": [
    "c. (10 points) Suppose instead that Walmart employs a limited rollout of the subscription service, and only allows some customers to sign-up. In particular, only customers that receive the promotional email can sign-up. Suppose you run a similar encouragement design experiment as in **(a)**. How do *compliers* in this setting differ from compliers in the original setup?"
   ]
  },
  {
   "cell_type": "raw",
   "metadata": {},
   "source": []
  },
  {
   "cell_type": "code",
   "execution_count": null,
   "metadata": {},
   "outputs": [],
   "source": [
    "from client.api.notebook import Notebook\n",
    "ok = Notebook('pset2.ok')                \n",
    "_ = ok.auth(inline=True)\n",
    "_ = ok.submit()"
   ]
  },
  {
   "cell_type": "code",
   "execution_count": null,
   "metadata": {},
   "outputs": [],
   "source": []
  }
 ],
 "metadata": {
  "kernelspec": {
   "display_name": "Python 3",
   "language": "python",
   "name": "python3"
  },
  "language_info": {
   "codemirror_mode": {
    "name": "ipython",
    "version": 3
   },
   "file_extension": ".py",
   "mimetype": "text/x-python",
   "name": "python",
   "nbconvert_exporter": "python",
   "pygments_lexer": "ipython3",
   "version": "3.6.1"
  }
 },
 "nbformat": 4,
 "nbformat_minor": 1
}
