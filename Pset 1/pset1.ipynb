{
 "cells": [
  {
   "cell_type": "markdown",
   "metadata": {},
   "source": [
    "# UGBA 96: Problem Set 1\n",
    "### Conrad Miller\n",
    "### January 2018\n",
    "For Parts 1-2, based on a brief description of the survey, answer a series of questions about the survey characteristics."
   ]
  },
  {
   "cell_type": "code",
   "execution_count": 3,
   "metadata": {},
   "outputs": [],
   "source": [
    "from datascience import *\n",
    "import matplotlib\n",
    "import numpy as np\n",
    "import pandas as pd\n",
    "matplotlib.use('Agg', warn=False)\n",
    "%matplotlib inline"
   ]
  },
  {
   "cell_type": "markdown",
   "metadata": {},
   "source": [
    "## Question 1\n",
    "A management consultant company emailed a questionnaire to the human resource directors of a random sample of US publicly traded companies, and received responses from 35% of them. Among those who responded, 30% reported that they did not find that the surveys intruded significantly on their workday."
   ]
  },
  {
   "cell_type": "markdown",
   "metadata": {},
   "source": [
    "What is the population of interest?"
   ]
  },
  {
   "cell_type": "raw",
   "metadata": {},
   "source": []
  },
  {
   "cell_type": "markdown",
   "metadata": {},
   "source": [
    "What is the parameter of interest?"
   ]
  },
  {
   "cell_type": "raw",
   "metadata": {},
   "source": []
  },
  {
   "cell_type": "markdown",
   "metadata": {},
   "source": [
    "What is the sampling frame?"
   ]
  },
  {
   "cell_type": "raw",
   "metadata": {},
   "source": []
  },
  {
   "cell_type": "markdown",
   "metadata": {},
   "source": [
    "What is the sampling design? Was randomized employed?"
   ]
  },
  {
   "cell_type": "raw",
   "metadata": {},
   "source": []
  },
  {
   "cell_type": "markdown",
   "metadata": {},
   "source": [
    "What are potential sources of bias, or other problems with the survey or sample?"
   ]
  },
  {
   "cell_type": "raw",
   "metadata": {},
   "source": []
  },
  {
   "cell_type": "markdown",
   "metadata": {},
   "source": [
    "## Question 2\n",
    "Inspectors from the food-safety division of the Department of Agriculture visit dairy farms unannounced and take samples of the milk to test for contamination. If the samples are found to contain dirt, antibiotics unsuited for human consumption, or other foreign matter, the milk will be destroyed and the farm sanctioned."
   ]
  },
  {
   "cell_type": "markdown",
   "metadata": {},
   "source": [
    "What is the population of interest?"
   ]
  },
  {
   "cell_type": "raw",
   "metadata": {},
   "source": []
  },
  {
   "cell_type": "markdown",
   "metadata": {},
   "source": [
    "What is the parameter of interest?"
   ]
  },
  {
   "cell_type": "raw",
   "metadata": {},
   "source": []
  },
  {
   "cell_type": "markdown",
   "metadata": {},
   "source": [
    "What is the sampling frame?"
   ]
  },
  {
   "cell_type": "raw",
   "metadata": {},
   "source": []
  },
  {
   "cell_type": "markdown",
   "metadata": {},
   "source": [
    "What is the sampling design? Was randomized employed?"
   ]
  },
  {
   "cell_type": "raw",
   "metadata": {},
   "source": []
  },
  {
   "cell_type": "markdown",
   "metadata": {},
   "source": [
    "What are potential sources of bias, or other problems with the survey or sample?"
   ]
  },
  {
   "cell_type": "raw",
   "metadata": {},
   "source": []
  },
  {
   "cell_type": "markdown",
   "metadata": {},
   "source": [
    "## Question 3\n",
    "A medical device company has surveyed a sample doctors that use their products on customer satisfaction. The original sampling frame was a simple random sample of all such doctors. In this questions, we will look at response rates to the survey and summarize overall customer satisfaction.\n",
    "\n",
    "The data contain the list of doctors that were sent the survey, whether the doctor responded to the survey, and the doctor’s reported satisfaction with the company’s devices (measured on a 1-5 scale, where ‘1’ indicates ‘not satisfied at all’ and ‘5’ indicates ‘completely satisfied’). The data also include the doctor’s hospital size, which historically has been a key distinguishing feature of the company’s customers. The company divides its customers into three categories depending on their hospital size: small (1-50 beds), medium (51-500 beds), and large (501+ beds)."
   ]
  },
  {
   "cell_type": "code",
   "execution_count": 2,
   "metadata": {},
   "outputs": [],
   "source": []
  },
  {
   "cell_type": "markdown",
   "metadata": {},
   "source": [
    "a. Let’s start by getting a feel for what’s contained in these data. What are the names of the table columns?"
   ]
  },
  {
   "cell_type": "code",
   "execution_count": null,
   "metadata": {},
   "outputs": [],
   "source": []
  },
  {
   "cell_type": "markdown",
   "metadata": {},
   "source": [
    "b. Using the description of the data given above, describe the meaning of each variable name."
   ]
  },
  {
   "cell_type": "raw",
   "metadata": {},
   "source": []
  },
  {
   "cell_type": "markdown",
   "metadata": {},
   "source": [
    "c. How many doctors were surveyed? How many returned responses?"
   ]
  },
  {
   "cell_type": "code",
   "execution_count": null,
   "metadata": {},
   "outputs": [],
   "source": []
  },
  {
   "cell_type": "raw",
   "metadata": {},
   "source": []
  },
  {
   "cell_type": "markdown",
   "metadata": {},
   "source": [
    "d. Now, let’s look at the actual responses. What is the average value of satisfaction among respondents?"
   ]
  },
  {
   "cell_type": "code",
   "execution_count": null,
   "metadata": {},
   "outputs": [],
   "source": []
  },
  {
   "cell_type": "raw",
   "metadata": {},
   "source": []
  },
  {
   "cell_type": "markdown",
   "metadata": {},
   "source": [
    "e. Create two bar plots of hospital_type: one for all doctors that received the survey and another for doctors that responded. How do the two distributions compare?"
   ]
  },
  {
   "cell_type": "code",
   "execution_count": null,
   "metadata": {},
   "outputs": [],
   "source": []
  },
  {
   "cell_type": "markdown",
   "metadata": {},
   "source": [
    "f. What can you infer about response rates differences by hospital_type based on these figures?"
   ]
  },
  {
   "cell_type": "raw",
   "metadata": {},
   "source": []
  },
  {
   "cell_type": "markdown",
   "metadata": {},
   "source": [
    "g. Among respondents, what is the average value of satisfication by hospital_type?"
   ]
  },
  {
   "cell_type": "code",
   "execution_count": null,
   "metadata": {},
   "outputs": [],
   "source": []
  },
  {
   "cell_type": "raw",
   "metadata": {},
   "source": []
  },
  {
   "cell_type": "markdown",
   "metadata": {},
   "source": [
    "h. What problem do your answers to (f) and (g) present for interpreting the survey?"
   ]
  },
  {
   "cell_type": "raw",
   "metadata": {},
   "source": []
  },
  {
   "cell_type": "markdown",
   "metadata": {},
   "source": [
    "i. When survey response rates vary systematically by group, a common approach is to use sample weights. The general idea is to put more weight on responses from groups that are underrepresented among survey respondents to make the survey data more representative of the population. For example, many general population surveys find that women are more likely to respond than men, so that the fraction of respondents that are women is larger than the fraction of the population that are women. Let’s weight our survey data based on subscriber tenure.\n",
    "\n",
    "The weights we will use are the following:\n",
    "$w_g = \\frac{\\text{group } g \\text{'s population share}}{\\text{group } g \\text{'s respondents share}}$"
   ]
  },
  {
   "cell_type": "code",
   "execution_count": null,
   "metadata": {},
   "outputs": [],
   "source": []
  },
  {
   "cell_type": "markdown",
   "metadata": {},
   "source": [
    "j. To apply these weights, let’s first introduce the concept of a weighted average. For an array of values $x_1, x_2, ...,x_n$ and weights $w_1, w_2, ..., w_n$, the average is $\\bar{x}_w=\\frac{w_1x_1+...+w_nx_n}{w_1+...+w_n}=\\frac{\\sum_i^n w_ix_i}{\\sum w_i}$.\n",
    "\n",
    "Define a new column large that is equal to 1 if the doctor’s hospital_type = ‘large’ and zero otherwise. What is the weighted average for  large among respondents? How does that compare to the (unweighted) average for high among those surveyed?"
   ]
  },
  {
   "cell_type": "code",
   "execution_count": null,
   "metadata": {},
   "outputs": [],
   "source": []
  },
  {
   "cell_type": "raw",
   "metadata": {},
   "source": []
  },
  {
   "cell_type": "markdown",
   "metadata": {},
   "source": [
    "k. Using these weights, what is the average satisfaction? How does this compare to your answer to part (f)?"
   ]
  },
  {
   "cell_type": "code",
   "execution_count": null,
   "metadata": {},
   "outputs": [],
   "source": []
  },
  {
   "cell_type": "raw",
   "metadata": {},
   "source": []
  },
  {
   "cell_type": "markdown",
   "metadata": {},
   "source": [
    "l. Do you have any remaining concerns about the survey response rates? If so, what and why?"
   ]
  },
  {
   "cell_type": "raw",
   "metadata": {},
   "source": []
  },
  {
   "cell_type": "markdown",
   "metadata": {},
   "source": [
    "## Question 4\n",
    "The human resources (HR) department of an IT company would like to better screen applicants for sales positions using data from a client satisfaction survey. In that survey, HR asks current clients to rate their satisfication with salespeople that are already employed by the company. This survey has large enough response rates that non-response bias is not a concern.\n",
    "\n",
    "Historically, the HR department has preferred to hire applicants with a college degree. After analyzing the client satisfaction survey, the HR department reaches a surprising conclusion: their salespeople with and without a college education have equally satisfied clients. This causes some to reconsider whether their preference for college-educated salespeople is warranted.\n",
    "\n",
    "Suppose client satisfaction is the only relevant performance metric and that there are a significant number of salespeople both with and without a college a degree represented in the survey."
   ]
  },
  {
   "cell_type": "markdown",
   "metadata": {},
   "source": [
    "Do the data imply that the HR department should drop their preference for college‑educated salespeople?"
   ]
  },
  {
   "cell_type": "code",
   "execution_count": null,
   "metadata": {},
   "outputs": [],
   "source": []
  },
  {
   "cell_type": "markdown",
   "metadata": {},
   "source": [
    "Why or why not? (Hint: consider whether the client satisfaction survey data are representative of the HR department’s population of interest.)"
   ]
  },
  {
   "cell_type": "code",
   "execution_count": null,
   "metadata": {},
   "outputs": [],
   "source": []
  },
  {
   "cell_type": "markdown",
   "metadata": {},
   "source": [
    "## Question 5\n",
    "The dataset you will analyze in this exercise is a random sample of all recent roundtrip airline tickets purhased for travel between New York’s John F. Kennedy Airport (JFK) and Los Angeles (LAX). First-class fares have been excluded. For each ticket the data includes the following variables:\n",
    "\n",
    "1. carrier: the airline\n",
    "2. rtrip_fare: round trip fare\n",
    "3. advance: number days in advance of flight each ticket was purchased\n",
    "4. busclass: indicator for business class (1 if business class, 0 if not)\n",
    "5. nonrefundable: indicator for whether a ticket purchased was a nonrefundable ticket\n",
    "6. satstayover: indicator for whether a roundtrip ticket includes a Saturday stayover in the destination location"
   ]
  },
  {
   "cell_type": "code",
   "execution_count": 4,
   "metadata": {},
   "outputs": [
    {
     "data": {
      "text/html": [
       "<table border=\"1\" class=\"dataframe\">\n",
       "    <thead>\n",
       "        <tr>\n",
       "            <th>carrier</th> <th>rtrip_fare</th> <th>advance</th> <th>busclass</th> <th>nonrefundable</th> <th>satstayover</th>\n",
       "        </tr>\n",
       "    </thead>\n",
       "    <tbody>\n",
       "        <tr>\n",
       "            <td>AA     </td> <td>158       </td> <td>14     </td> <td>0       </td> <td>1            </td> <td>0          </td>\n",
       "        </tr>\n",
       "    </tbody>\n",
       "        <tr>\n",
       "            <td>AA     </td> <td>159       </td> <td>52     </td> <td>0       </td> <td>1            </td> <td>1          </td>\n",
       "        </tr>\n",
       "    </tbody>\n",
       "        <tr>\n",
       "            <td>AA     </td> <td>159       </td> <td>15     </td> <td>0       </td> <td>1            </td> <td>0          </td>\n",
       "        </tr>\n",
       "    </tbody>\n",
       "        <tr>\n",
       "            <td>AA     </td> <td>160       </td> <td>28     </td> <td>0       </td> <td>1            </td> <td>1          </td>\n",
       "        </tr>\n",
       "    </tbody>\n",
       "        <tr>\n",
       "            <td>AA     </td> <td>160       </td> <td>24     </td> <td>0       </td> <td>1            </td> <td>1          </td>\n",
       "        </tr>\n",
       "    </tbody>\n",
       "        <tr>\n",
       "            <td>AA     </td> <td>160       </td> <td>28     </td> <td>0       </td> <td>1            </td> <td>0          </td>\n",
       "        </tr>\n",
       "    </tbody>\n",
       "        <tr>\n",
       "            <td>AA     </td> <td>165       </td> <td>22     </td> <td>0       </td> <td>1            </td> <td>1          </td>\n",
       "        </tr>\n",
       "    </tbody>\n",
       "        <tr>\n",
       "            <td>AA     </td> <td>165       </td> <td>15     </td> <td>0       </td> <td>1            </td> <td>0          </td>\n",
       "        </tr>\n",
       "    </tbody>\n",
       "        <tr>\n",
       "            <td>AA     </td> <td>165       </td> <td>17     </td> <td>0       </td> <td>1            </td> <td>1          </td>\n",
       "        </tr>\n",
       "    </tbody>\n",
       "        <tr>\n",
       "            <td>AA     </td> <td>165       </td> <td>26     </td> <td>0       </td> <td>1            </td> <td>1          </td>\n",
       "        </tr>\n",
       "    </tbody>\n",
       "</table>\n",
       "<p>... (10256 rows omitted)</p"
      ],
      "text/plain": [
       "carrier | rtrip_fare | advance | busclass | nonrefundable | satstayover\n",
       "AA      | 158        | 14      | 0        | 1             | 0\n",
       "AA      | 159        | 52      | 0        | 1             | 1\n",
       "AA      | 159        | 15      | 0        | 1             | 0\n",
       "AA      | 160        | 28      | 0        | 1             | 1\n",
       "AA      | 160        | 24      | 0        | 1             | 1\n",
       "AA      | 160        | 28      | 0        | 1             | 0\n",
       "AA      | 165        | 22      | 0        | 1             | 1\n",
       "AA      | 165        | 15      | 0        | 1             | 0\n",
       "AA      | 165        | 17      | 0        | 1             | 1\n",
       "AA      | 165        | 26      | 0        | 1             | 1\n",
       "... (10256 rows omitted)"
      ]
     },
     "execution_count": 4,
     "metadata": {},
     "output_type": "execute_result"
    }
   ],
   "source": [
    "ticket_data = Table.read_table('ticket_prices.csv')\n",
    "ticket_data"
   ]
  },
  {
   "cell_type": "markdown",
   "metadata": {},
   "source": [
    "a. How many airlines are represented in these data?"
   ]
  },
  {
   "cell_type": "code",
   "execution_count": null,
   "metadata": {},
   "outputs": [],
   "source": []
  },
  {
   "cell_type": "raw",
   "metadata": {},
   "source": []
  },
  {
   "cell_type": "markdown",
   "metadata": {},
   "source": [
    "b. Compute the mean and median round trip fare."
   ]
  },
  {
   "cell_type": "code",
   "execution_count": null,
   "metadata": {},
   "outputs": [],
   "source": []
  },
  {
   "cell_type": "raw",
   "metadata": {},
   "source": []
  },
  {
   "cell_type": "markdown",
   "metadata": {},
   "source": [
    "c. The mean fare is larger than the median fare. What does this indicate about the distribution of fares?"
   ]
  },
  {
   "cell_type": "raw",
   "metadata": {},
   "source": []
  },
  {
   "cell_type": "markdown",
   "metadata": {},
   "source": [
    "d. Create a histogram of trip fare. Why is there so much blank space on the right side of the histogram?"
   ]
  },
  {
   "cell_type": "code",
   "execution_count": null,
   "metadata": {},
   "outputs": [],
   "source": []
  },
  {
   "cell_type": "raw",
   "metadata": {},
   "source": []
  },
  {
   "cell_type": "markdown",
   "metadata": {},
   "source": [
    "e. Create a histogram using only tickets under $1000."
   ]
  },
  {
   "cell_type": "code",
   "execution_count": null,
   "metadata": {},
   "outputs": [],
   "source": []
  },
  {
   "cell_type": "markdown",
   "metadata": {},
   "source": [
    "f. Is one of the airlines much cheaper on average than the other?"
   ]
  },
  {
   "cell_type": "code",
   "execution_count": null,
   "metadata": {},
   "outputs": [],
   "source": []
  },
  {
   "cell_type": "raw",
   "metadata": {},
   "source": []
  },
  {
   "cell_type": "markdown",
   "metadata": {},
   "source": [
    "g. Measure the price difference between tickets with satstayover == 1 and satstayover == 0. Why do you think this price difference exists?"
   ]
  },
  {
   "cell_type": "code",
   "execution_count": null,
   "metadata": {},
   "outputs": [],
   "source": []
  },
  {
   "cell_type": "raw",
   "metadata": {},
   "source": []
  },
  {
   "cell_type": "markdown",
   "metadata": {},
   "source": [
    "In the next three exercises exercise we will document the relationship between advance and trip price."
   ]
  },
  {
   "cell_type": "markdown",
   "metadata": {},
   "source": [
    "h. Create a scatter plot with rtrip_fare on the vertical axis and advance on the horizontal axis."
   ]
  },
  {
   "cell_type": "code",
   "execution_count": null,
   "metadata": {},
   "outputs": [],
   "source": []
  },
  {
   "cell_type": "raw",
   "metadata": {},
   "source": []
  },
  {
   "cell_type": "markdown",
   "metadata": {},
   "source": [
    "i. Next, we will use what’s called a \"bin scatter” plot to make this relationship even clearer. First, we group tickets into deciles (like quartiles, except 10 groups) based on their ‘advance’ value. Then we calculate the average fare and average advance days by decline. Finally, we scatter plot those averages against each other. There should be 10 observations in total."
   ]
  },
  {
   "cell_type": "code",
   "execution_count": null,
   "metadata": {},
   "outputs": [],
   "source": []
  },
  {
   "cell_type": "markdown",
   "metadata": {},
   "source": [
    "j. What do you find interesting about this relationship?"
   ]
  },
  {
   "cell_type": "raw",
   "metadata": {},
   "source": []
  }
 ],
 "metadata": {
  "kernelspec": {
   "display_name": "Python 3",
   "language": "python",
   "name": "python3"
  },
  "language_info": {
   "codemirror_mode": {
    "name": "ipython",
    "version": 3
   },
   "file_extension": ".py",
   "mimetype": "text/x-python",
   "name": "python",
   "nbconvert_exporter": "python",
   "pygments_lexer": "ipython3",
   "version": "3.6.1"
  }
 },
 "nbformat": 4,
 "nbformat_minor": 1
}
