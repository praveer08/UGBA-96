{
 "cells": [
  {
   "cell_type": "markdown",
   "metadata": {},
   "source": [
    "## Lab 1\n",
    "### UGBA 96: Data and Decisions\n",
    "\n",
    "<br>\n",
    "\n",
    "## Economic Mobility at Calfornia Public Institutions\n",
    "\n",
    "In this lab we will analyze the data on college Mobility Report Cards from lecture to answer more questions about economic mobility, specifically at public universities and community colleges in California. One important justification for public spending on higher education is that colleges and universities are engines of social mobility. We will investigate how access, success, and upward mobility rates vary across institutions. We will write a function that generates a Report Card for a provided institution. We will also explore how access has changed over time, as California’s spending on public higher education has declined or stagnated. \n",
    "\n",
    "The lab is intended to illustrate how descriptive statistics alone can provide valuable insight.\n",
    "\n",
    "Dependencies\n",
    "\n",
    "- Numpy\n",
    "- Matplotlib"
   ]
  },
  {
   "cell_type": "code",
   "execution_count": null,
   "metadata": {},
   "outputs": [],
   "source": [
    "from datascience import *\n",
    "import numpy as np\n",
    "\n",
    "#These lines set up graphing capabilities.\n",
    "import matplotlib.pyplot as plt\n",
    "%matplotlib inline"
   ]
  },
  {
   "cell_type": "markdown",
   "metadata": {},
   "source": [
    "## 1. Comparing Access, Success, and Mobility Across Institutions\n",
    "First, we’ll open the cross-sectional data from the paper. In this dataset there is one row of data for each college and university in the US.\n",
    "\n",
    "(Though we discuss the columns we'll use in this lab, look [here](http://www.equality-of-opportunity.org/data/college/Codebook%20MRC%20Table%202.pdf) for documentation on the remaining contents of these data.)\n",
    "\n",
    "\n",
    "** 1.1 ** First, let's load the data and the specific columns we'll use in this lab."
   ]
  },
  {
   "cell_type": "code",
   "execution_count": null,
   "metadata": {},
   "outputs": [],
   "source": [
    "mobility = Table.read_table(\"mrc_table2.csv\").select(['super_opeid', 'name', 'type', 'tier', 'iclevel', 'state', 'count', 'mr_kq5_pq1', 'par_mean', 'par_median',\n",
    "         'par_rank', 'par_q1', 'par_q2', 'par_q3', 'par_q4', 'par_q5', 'kq5_cond_parq1', 'kq5_cond_parq2', 'kq5_cond_parq3', 'kq5_cond_parq4', 'kq5_cond_parq5'])\n",
    "\n",
    "print(\"Table Dimensions:\", mobility.num_columns , \"X\" , mobility.num_rows)\n",
    "mobility"
   ]
  },
  {
   "cell_type": "markdown",
   "metadata": {},
   "source": [
    "**1.2** In this lab we will focus on Calfornia public institutions. Let’s filter the data to reflect this."
   ]
  },
  {
   "cell_type": "code",
   "execution_count": null,
   "metadata": {},
   "outputs": [],
   "source": [
    "ca_pub_mobility = mobility.where('type', are.equal_to('Public')).where('state', are.equal_to('CA'))\n",
    "\n",
    "print(\"Table Dimensions:\", ca_pub_mobility.num_columns , \"X\" , ca_pub_mobility.num_rows)\n",
    "ca_pub_mobility"
   ]
  },
  {
   "cell_type": "markdown",
   "metadata": {},
   "source": [
    "*Note: See how we can \"chained\" __.where__ statements? *\n",
    "\n",
    "This is because calling .where() on a table object, returns another table object, so you can theoretically use infinite .where() statements that each filter out rows of the table.\n",
    "\n",
    "We are left with a total of 100 institutions."
   ]
  },
  {
   "cell_type": "markdown",
   "metadata": {},
   "source": [
    "## Exploring the Data \n",
    "\n",
    "We will first describe the distributions of _access, success rates, and mobility rates_ across institutions. We use the same definitions of these terms used in the paper and described in lecture:\n",
    "\n",
    "- **`access` (`par_q1`):** the share of students enrolled that are ‘low income’–those whose parent's income is in the bottom quintile (bottom 20%) of the parental income distribution. Note: share values range from 0 to 1.\n",
    "\n",
    "    - Note: though we won't use these columns in the exercises in the columns below, we also have columns `par_q2`, `par_q3`, `par_q4`, and `par_q5`. These contain the share of students with parents in the rest of the income distribution. Feel free to explore these data after you've completed the exercises.\n",
    "\n",
    "\n",
    "- **`success` (`kq5_cond_parq1`):** the share of low income students with incomes in the top quintile (top 20%) of the student income distribution, measured at age 32-34.\n",
    "\n",
    "    - Note: though we won't use these columns in the exercises in the columns below, we also have columns `kq5_cond_parq2`, `kq5_cond_parq3`, `kq5_cond_parq4`, and `kq5_cond_parq5`. These contain the share of students with incomes in the top quintile of the student income distribution for students with parents in the rest of the income distribution. Feel free to explore these data after you've completed the exercises.\n",
    "\n",
    "\n",
    "- **`mobility` (`mr_kq5_pq1`):** the share of students enrolled that are both ‘low income’ and later have earnings in the top quintile (top 20%) of the student income distribution.\n",
    "\n",
    "Note that `mobility` $=$ `access` $\\times$ `success`. Hence, institutions with high mobility will tend to have more low income students and high 'success' rates with those students.\n",
    "\n",
    "** 1.3 ** To make the data easier to interpret, let's rescale these columns to express them as *percentages* rather than *shares.* To do this, we'll just multiply `par_q1`, `kq5_cond_parq1`, and `mr_kq5_pq1` by 100.\n"
   ]
  },
  {
   "cell_type": "code",
   "execution_count": null,
   "metadata": {},
   "outputs": [],
   "source": [
    "#rescale access, success, and mobility rates\n",
    "#only run this once!\n",
    "ca_pub_mobility = ca_pub_mobility.with_columns(\n",
    "    'par_q1', ca_pub_mobility.column('par_q1')*100,\n",
    "    'par_q2', ca_pub_mobility.column('par_q2')*100,\n",
    "    'par_q3', ca_pub_mobility.column('par_q3')*100,\n",
    "    'par_q4', ca_pub_mobility.column('par_q4')*100,\n",
    "    'par_q5', ca_pub_mobility.column('par_q5')*100,\n",
    "    'kq5_cond_parq1', ca_pub_mobility.column('kq5_cond_parq1')*100,\n",
    "    'kq5_cond_parq2', ca_pub_mobility.column('kq5_cond_parq2')*100,\n",
    "    'kq5_cond_parq3', ca_pub_mobility.column('kq5_cond_parq3')*100,\n",
    "    'kq5_cond_parq4', ca_pub_mobility.column('kq5_cond_parq4')*100,\n",
    "    'kq5_cond_parq5', ca_pub_mobility.column('kq5_cond_parq5')*100,\n",
    "    'mr_kq5_pq1', ca_pub_mobility.column('mr_kq5_pq1')*100,\n",
    ")\n",
    "\n",
    "ca_pub_mobility"
   ]
  },
  {
   "cell_type": "markdown",
   "metadata": {},
   "source": [
    "### Access\n",
    "\n",
    "** 1.4 ** First let’s look at the distribution of `access` across institutions. We'll do this by creating a histogram of this column."
   ]
  },
  {
   "cell_type": "code",
   "execution_count": null,
   "metadata": {},
   "outputs": [],
   "source": [
    "#create histogram of access column (named par_q1)\n",
    "\n",
    "\n",
    "#the code below will label the axes and title of your histogram\n",
    "plt.title('Distribution of Low Income Access at Calfornia Public Institutions')\n",
    "plt.xlabel('Low Income Access: Percent of Parents in Bottom Quintile')"
   ]
  },
  {
   "cell_type": "markdown",
   "metadata": {
    "collapsed": true
   },
   "source": [
    "Across institutions, `access` varies from about 0.05 to 0.35, with a relatively long right tail in the distribution.\n",
    "\n",
    "**1.5** Now, we'll look at some summary statistics of the data.\n",
    "\n",
    "Summary statistics are numbers we use to describe various aspects of our data, such as the *mean*, *standard deviation*, and various *percentiles*.\n",
    "\n",
    "Here, we compute the mean, standard deviation, 25th, 50th (median) and 75th percentiles of the column `access`."
   ]
  },
  {
   "cell_type": "code",
   "execution_count": null,
   "metadata": {},
   "outputs": [],
   "source": [
    "#note: the function np.percentile(x, A) takes an array x and calculates percentiles of x corresponding to the values of an array A, ranging from 0-100.\n"
   ]
  },
  {
   "cell_type": "markdown",
   "metadata": {},
   "source": [
    "Recall that, by definition, 20% of California college-aged adults have parents with income in the bottom quintile of the income distribution. Hence, if a school reflected the income mix of the population, it would have about 20% of its students coming from the bottom quintile of the income distribution. That would imply an `access` value of 0.20. Most institutions have fewer low income students than a 'representative' school would have, though some have more."
   ]
  },
  {
   "cell_type": "markdown",
   "metadata": {},
   "source": [
    "### Success Rates\n",
    "\n",
    "**1.6** Now let's look at the distribution of `success` across these institutions."
   ]
  },
  {
   "cell_type": "code",
   "execution_count": null,
   "metadata": {},
   "outputs": [],
   "source": [
    "#create histogram of access column (named kq5_cond_parq1)\n",
    "\n",
    "#the code below will label the axes and title of your histogram\n",
    "plt.title('Distribution of \"Success\" at Calfornia Public Institutions')\n",
    "plt.xlabel('Success Rate: P(Child in Q5 | Parent in Q1)')"
   ]
  },
  {
   "cell_type": "markdown",
   "metadata": {},
   "source": [
    "Notice that one institution has a substantially larger `success` rate than the rest. This type of data point, one that does not fit the overall pattern of the data, is often referred to as an **outlier**.\n",
    "\n",
    "**1.7 ** What institution is that outlier?\n",
    "\n",
    "To find this, we can filter the table to look at rows where `success` is sufficiently large. Alternatively you can order the table by success and select the top row."
   ]
  },
  {
   "cell_type": "code",
   "execution_count": null,
   "metadata": {},
   "outputs": [],
   "source": []
  },
  {
   "cell_type": "markdown",
   "metadata": {},
   "source": [
    "** 1.8 ** Let's compute the same summary statistics for `success`: the mean, standard deviation, and the same percentile values."
   ]
  },
  {
   "cell_type": "code",
   "execution_count": null,
   "metadata": {},
   "outputs": [],
   "source": []
  },
  {
   "cell_type": "markdown",
   "metadata": {},
   "source": [
    "**1.9** Which factor is more important for ranking institutions by mobility: `access` or `success`? One way to answer this is to see which factor *varies* more acorss institutions. If all institutions have similar `success` rates, but dramatically different levels of `access`, than `access` would be a more important factor for ranking institutions.\n",
    "\n",
    "**Problem:** They are on different scales. \n",
    "\n",
    "**Solution:** There are *relative* measures of variability that account for the fact that the two variables have different means, such as the **coefficient of variation**.\n",
    "\n",
    "This is defined as the ratio of the standard deviation to the mean: \n",
    "\n",
    "$$ C_v = \\frac{\\sigma}{\\mu} $$\n",
    "\n",
    "or the sample equivalent: \n",
    "\n",
    "$$ C_v = \\frac{s_v}{\\bar x} $$\n",
    "\n",
    "Let’s create a *function* called `coef_var` that computes the coefficient of variation for a sample of data.\n",
    "\n",
    "It should take in an array of values. You can get this by using Table.column('name')."
   ]
  },
  {
   "cell_type": "code",
   "execution_count": null,
   "metadata": {},
   "outputs": [],
   "source": [
    "# write your function below"
   ]
  },
  {
   "cell_type": "markdown",
   "metadata": {},
   "source": [
    "** 1.10 ** Compare the coefficient of variation for `access` and `success`. What do you conclude?"
   ]
  },
  {
   "cell_type": "code",
   "execution_count": null,
   "metadata": {},
   "outputs": [],
   "source": [
    "coef_var_access = ...\n",
    "coef_var_success = ..."
   ]
  },
  {
   "cell_type": "raw",
   "metadata": {},
   "source": [
    "#which is more variable?"
   ]
  },
  {
   "cell_type": "markdown",
   "metadata": {},
   "source": [
    "** 1.11** Let's examine the relationship between `access` and `success`. Create a scatterplot with `access` on the horizontal axis and `success` on the vertical access."
   ]
  },
  {
   "cell_type": "code",
   "execution_count": null,
   "metadata": {},
   "outputs": [],
   "source": [
    "#create scatter plot\n",
    "\n",
    "#the code below will label the axes and title of your scatter plot\n",
    "plt.title('Access versus Success at Calfornia Public Institutions')\n",
    "plt.xlabel('Share of Parents in Bottom Quintile')\n",
    "plt.ylabel('100 * P(Child in Q5 | Parent in Q1)')"
   ]
  },
  {
   "cell_type": "markdown",
   "metadata": {},
   "source": [
    "**1.12** Describe the relationship between `access` and `success`."
   ]
  },
  {
   "cell_type": "raw",
   "metadata": {},
   "source": []
  },
  {
   "cell_type": "markdown",
   "metadata": {},
   "source": [
    "Interestingly, despite the clear relationship between `access` and `success` you've noted above, there is still a lot of variation in `access` among institutions with similar `success` rates. You can see that from this figure from the paper (which includes all US colleges and universities, not just public Calfornia schools):\n",
    "\n",
    "<img src=\"success_cond_var.png\" alt=\"Drawing\" style=\"width: 600px;\"/>\n",
    "\n",
    "This suggests an interesting policy question: how are institutions producing students of similar 'quality' (as measured by earnings) yet providing very different levels of access? What can be learned from the more accessible colleges and universities?"
   ]
  },
  {
   "cell_type": "markdown",
   "metadata": {},
   "source": [
    "### Mobility Rates"
   ]
  },
  {
   "cell_type": "markdown",
   "metadata": {},
   "source": [
    "Finally, let's investigate `mobility` across institutions.\n",
    "\n",
    "** 1.13** Recall that for each school, upward mobility is the product of access and  success rates. Let's confirm this in the data by creating our own mobility measure and comparing it to the `mobility` column in the data."
   ]
  },
  {
   "cell_type": "code",
   "execution_count": null,
   "metadata": {},
   "outputs": [],
   "source": []
  },
  {
   "cell_type": "markdown",
   "metadata": {},
   "source": [
    "** 1.14** Now let's look at the distribution of upward mobility across institutions. "
   ]
  },
  {
   "cell_type": "code",
   "execution_count": null,
   "metadata": {},
   "outputs": [],
   "source": [
    "#create histogram of access column (named mr_kq5_pq1)\n",
    "\n",
    "#the code below will label the axes and title of your histogram\n",
    "plt.title('Distribution of \"Mobility\" at Calfornia Public Institutions')\n",
    "plt.xlabel('\"Mobility\"')"
   ]
  },
  {
   "cell_type": "markdown",
   "metadata": {},
   "source": [
    "**1.15 ** You should see another outlier. What institution is that?"
   ]
  },
  {
   "cell_type": "code",
   "execution_count": null,
   "metadata": {},
   "outputs": [],
   "source": []
  },
  {
   "cell_type": "markdown",
   "metadata": {},
   "source": [
    "This institution has a relatively high `success` rate, and one of the largest levels of `access`.\n",
    "\n",
    "** 1.16 ** Let's compute the same summary statistics for `mobility`: the mean, standard deviation, and the same percentile values."
   ]
  },
  {
   "cell_type": "code",
   "execution_count": null,
   "metadata": {},
   "outputs": [],
   "source": []
  },
  {
   "cell_type": "markdown",
   "metadata": {},
   "source": [
    "**1.17** Let's examine the values of `access`, `success`, and `mobility` for Berkeley. How would you say they compare to other California public institutions? For example, between what quantiles does Berkeley rank on each measure?"
   ]
  },
  {
   "cell_type": "code",
   "execution_count": null,
   "metadata": {},
   "outputs": [],
   "source": []
  },
  {
   "cell_type": "raw",
   "metadata": {},
   "source": [
    "#How does Berkeley compare?"
   ]
  },
  {
   "cell_type": "markdown",
   "metadata": {},
   "source": [
    "## 2. Creating a College Report Card\n",
    "\n",
    "<img src=\"berkeley_mrc.png\">\n",
    "\n",
    "The main output of the Chetty et al. (2017) project is a Mobility Report Card for each school included in their data. The Report Card shows the composition of an institution's students by parental income quintile, and success rates by parental income quintile. Report Cards for each institution can be found [here](https://sites.google.com/site/dannyyagan/college).\n",
    "\n",
    "Above, you can see the Report Card for UC Berkeley. The figure includes a bar chart for the distribution of students by parental income quintile, and a line plot the show success rates by parental income quintile. The figure is effective--it presents a lot of information without too much clutter.\n",
    "\n",
    "In this section we will create a function that generates a Report Card comparing two institutions.\n",
    "\n",
    "**2.1** For this exercise, it will be easier to work with the data in a different format. Again, we will restrict to public California colleges and universities."
   ]
  },
  {
   "cell_type": "code",
   "execution_count": null,
   "metadata": {},
   "outputs": [],
   "source": [
    "#read in data\n",
    "mobility_long = Table.read_table(\"mrc_table2_long.csv\")\n",
    "\n",
    "#restrict to CA public institutions again\n",
    "ca_pub_mobility_long = mobility_long.where('type', are.equal_to('Public')).where('state', are.equal_to('CA'))\n",
    "\n",
    "ca_pub_mobility_long\n"
   ]
  },
  {
   "cell_type": "markdown",
   "metadata": {},
   "source": [
    "Notice that now there are *5* observations per institution. While each row represented an institution in the first table, in this table each row represents an institution by parental income quintile *pair*. The latter is denoted by the column `parq`. \n",
    "\n",
    "(What we have done is transformed the data from *wide* to *long* format. The details of this are beyond the scope of this lab, but you can think of it as the opposite of the `pivot` function introduced in Data 8.)\n",
    "\n",
    "There are two other columns that require explanation:\n",
    "\n",
    "- **`share`**: this is the share of students at the institution with parental income in the quintile indicated by `parq`. Across the 5 rows for each institution, these values will sum to 1.\n",
    "\n",
    "- **`kq5_cond_parq`**: this is the 'success rate' for students from a particular institution and parental income quintile. In other words, it is the share of students that reach the top quintile of the children's income distribution.\n",
    "\n",
    "As above, let's rescale `share` and `kq5_cond_parq` to express them as percentages rather than shares.\n"
   ]
  },
  {
   "cell_type": "code",
   "execution_count": null,
   "metadata": {},
   "outputs": [],
   "source": [
    "#rescale share and kq5_cond_parq\n",
    "\n",
    "#only run this once!\n",
    "ca_pub_mobility_long = ca_pub_mobility_long.with_columns(\n",
    "    'percent', ca_pub_mobility_long.column('share')*100,\n",
    "    'kq5_cond_parq', ca_pub_mobility_long.column('kq5_cond_parq')*100\n",
    ")\n",
    "\n",
    "ca_pub_mobility_long\n"
   ]
  },
  {
   "cell_type": "markdown",
   "metadata": {},
   "source": [
    "**2.2** First, create the bar chart portion of the Report Card for UC Berkeley.\n"
   ]
  },
  {
   "cell_type": "code",
   "execution_count": null,
   "metadata": {},
   "outputs": [],
   "source": [
    "#create table with just Berkeley data\n",
    "berkeley_mobility_long = ca_pub_mobility_long.where('name', are.equal_to('University Of California, Berkeley'))\n",
    "\n",
    "#create bar chart"
   ]
  },
  {
   "cell_type": "markdown",
   "metadata": {},
   "source": [
    "**2.3** Next, create the line plot portion."
   ]
  },
  {
   "cell_type": "code",
   "execution_count": null,
   "metadata": {},
   "outputs": [],
   "source": [
    "#create line plot"
   ]
  },
  {
   "cell_type": "markdown",
   "metadata": {},
   "source": [
    "Notice the difference in vertical scales for the two figures.\n",
    "\n",
    "**2.4** Let's put the last two pieces together in one figure as in the offical Report Cards."
   ]
  },
  {
   "cell_type": "code",
   "execution_count": null,
   "metadata": {},
   "outputs": [],
   "source": [
    "#copy and paste your code from previous two cells\n",
    "\n",
    "\n",
    "#include this last line\n",
    "plt.show()"
   ]
  },
  {
   "cell_type": "markdown",
   "metadata": {},
   "source": [
    "We're almost there! We just need to combine the data from two institutions in one plot. The code below generates a Report Card that compares UC Berkeley and UC Davis. "
   ]
  },
  {
   "cell_type": "code",
   "execution_count": null,
   "metadata": {},
   "outputs": [],
   "source": [
    "#create report card that compares two institutions\n",
    "bar_width = 0.3  # default: 0.8\n",
    "\n",
    "school1 = ca_pub_mobility_long.where('name', are.equal_to('University Of California, Berkeley'))\n",
    "school2 = ca_pub_mobility_long.where('name', are.equal_to('University Of California, Davis'))\n",
    "\n",
    "#create the bar charts\n",
    "plt.bar(school1.column('parq') + bar_width/2 + .05, school1.column('percent'), bar_width, label = 'University Of California, Berkeley')\n",
    "plt.bar(school2.column('parq') - bar_width/2 - .05, school2.column('percent'), bar_width, label = 'University Of California, Davis')\n",
    "\n",
    "#create the line plots\n",
    "plt.plot(school1.column('parq'), school1.column('kq5_cond_parq'), marker='o')\n",
    "plt.plot(school2.column('parq'), school2.column('kq5_cond_parq'), marker='o')\n",
    "\n",
    "plt.legend()\n",
    "\n",
    "plt.show()"
   ]
  },
  {
   "cell_type": "markdown",
   "metadata": {},
   "source": [
    "**2.5** Create a function that takes two institution names as arguments and returns a Report Card that compares the two."
   ]
  },
  {
   "cell_type": "code",
   "execution_count": null,
   "metadata": {},
   "outputs": [],
   "source": [
    "#turn into function\n",
    "#hint: you should first copy the code from the cell above and then make some minor changes so that 'UC Berkeley' and 'UC Davis' are replaced by the names for the function arguments.\n",
    "\n",
    "def report_card(a, b):\n",
    "\n",
    "    ...\n",
    "\n",
    "    return plt.show()"
   ]
  },
  {
   "cell_type": "code",
   "execution_count": null,
   "metadata": {},
   "outputs": [],
   "source": [
    "report_card('University Of California, Berkeley', 'University Of California, Berkeley')"
   ]
  },
  {
   "cell_type": "markdown",
   "metadata": {},
   "source": [
    "**2.6** Generate a report card using two institutions of your choosing. Describe the comparison."
   ]
  },
  {
   "cell_type": "code",
   "execution_count": null,
   "metadata": {},
   "outputs": [],
   "source": []
  },
  {
   "cell_type": "raw",
   "metadata": {},
   "source": [
    "#describe the comparison here"
   ]
  },
  {
   "cell_type": "markdown",
   "metadata": {},
   "source": [
    "## 3. How Does Access Vary Over Time?\n",
    "Next, we’ll look at how low income access to California public institutions has changed over time. Over the last 40 years, public spending on higher education in Calfornia has changed dramatically, as demonstrated by the figure below.\n",
    "\n",
    "<img src = http://www.ppic.org/content/images/InstCosts_Fig1.png, title = 'higher education funding in California'>\n",
    "\n",
    "**UC :** University of California, \n",
    "<br>\n",
    "**CSU :** California State University\n",
    "\n",
    "Here's a relevant DailyCal article that outlines how funding has changed over the years\n",
    "http://www.dailycal.org/2014/12/22/history-uc-tuition-since-1868/\n",
    "<br>\n",
    "\n",
    "** 3.1 ** Let's load and examine the longitudinal data and the specific columns we'll use in this section."
   ]
  },
  {
   "cell_type": "code",
   "execution_count": null,
   "metadata": {},
   "outputs": [],
   "source": [
    "mobility_panel = Table.read_table('mrc_table3.csv').select(make_array('super_opeid', 'cohort', 'name', 'type', 'tier', \n",
    "                                                          'iclevel', 'state', 'count', 'mr_kq5_pq1', 'par_mean', 'par_median',\n",
    "                                                          'par_rank', 'par_q1', 'par_q2', 'par_q3', 'par_q4', 'par_q5', 'kq5_cond_parq1', \n",
    "                                                          'kq5_cond_parq2', 'kq5_cond_parq3', 'kq5_cond_parq4', 'kq5_cond_parq5'))\n",
    "\n",
    "#restrict to California public and private (non-profit) institutions\n",
    "ca_mobility_panel = mobility_panel.where('state', are.equal_to('CA')).where('type', are.contained_in(make_array('Public', 'Private Non-profit')))\n",
    "\n",
    "#rescale access, success, and mobility rates\n",
    "ca_mobility_panel = ca_mobility_panel.with_columns(\n",
    "    'par_q1', ca_mobility_panel.column('par_q1')*100,\n",
    "    'par_q2', ca_mobility_panel.column('par_q2')*100,\n",
    "    'par_q3', ca_mobility_panel.column('par_q3')*100,\n",
    "    'par_q4', ca_mobility_panel.column('par_q4')*100,\n",
    "    'par_q5', ca_mobility_panel.column('par_q5')*100,\n",
    "    'kq5_cond_parq1', ca_mobility_panel.column('kq5_cond_parq1')*100,\n",
    "    'kq5_cond_parq2', ca_mobility_panel.column('kq5_cond_parq2')*100,\n",
    "    'kq5_cond_parq3', ca_mobility_panel.column('kq5_cond_parq3')*100,\n",
    "    'kq5_cond_parq4', ca_mobility_panel.column('kq5_cond_parq4')*100,\n",
    "    'kq5_cond_parq5', ca_mobility_panel.column('kq5_cond_parq5')*100,\n",
    "    'mr_kq5_pq1', ca_mobility_panel.column('mr_kq5_pq1')*100\n",
    ")\n",
    "\n",
    "ca_mobility_panel"
   ]
  },
  {
   "cell_type": "markdown",
   "metadata": {},
   "source": [
    "**Longitudinal data**, also referred to as **panel data** follows the same object over time with repeated observations. In this case, the data follow institutions over time.\n",
    "\n",
    "These particular longitudinal data are organized by **cohort**. In general, a cohort is a group of individuals that share some common factor, of a year of birth or year of matriculation. In this case, cohorts are defined by the student's year of birth. For each institution, there is now a separate row of data for students born in each year, ranging from 1980 to 1991.\n",
    "\n",
    "The column `count` records the number of students from each cohort that were included in the underlying data."
   ]
  },
  {
   "cell_type": "markdown",
   "metadata": {},
   "source": [
    "** 3.2 ** Let's measure `access` over time (by cohort), averaging across all public institutions. \n",
    "\n",
    "Notice that `ca_mobility` has some nan values. nan stands for \"Not a Number,\" which can throw off certain calculations like np.mean. In this case, nan values indicate that there was not sufficient data on students for  that cohort and institution, for example, because that institution did not exist (e.g. UC Merced).\n",
    "\n",
    "In general, we can deal with missing or incomplete values is to 'impute' or remove them from the dataset. In this case, we remove them by filtering values that we KNOW are in the proper range (i.e. > 0)."
   ]
  },
  {
   "cell_type": "code",
   "execution_count": null,
   "metadata": {},
   "outputs": [],
   "source": [
    "ca_mobility_panel = ca_mobility_panel.where('par_q1', are.above(0))"
   ]
  },
  {
   "cell_type": "code",
   "execution_count": null,
   "metadata": {},
   "outputs": [],
   "source": [
    "#plot `access` by cohort\n",
    "#note: you will cover the group function later this week in Data 8. The code below collapses the data into cohort level averages.\n",
    "ca_mobility_panel_public = ca_mobility_panel.where('type', are.equal_to('Public')).group('cohort', collect = np.mean)\n",
    "\n",
    "#When plotting we must first select the columns we want to plot\n",
    "ca_mobility_panel_public.select(make_array('cohort','par_q1 mean')).plot(column_for_xticks='cohort')\n",
    "plt.title('Low-Income Percent of Enrollment in California Public Institutions')"
   ]
  },
  {
   "cell_type": "markdown",
   "metadata": {},
   "source": [
    "** 3.3 ** Now, let's separate this figure by institution type.\n",
    "\n",
    "To overlay plots, we had to go outside the datascience package. Here, I used matplotlib, what creates the Table.plot charts. If you're curious, you can learn more\n",
    "[here](https://matplotlib.org/gallery/lines_bars_and_markers/categorical_variables.html?highlight=categorical)."
   ]
  },
  {
   "cell_type": "code",
   "execution_count": null,
   "metadata": {},
   "outputs": [],
   "source": [
    "ca_mobility_two_year = ca_mobility_panel.where('type', are.equal_to('Public')\n",
    "                                            ).where('iclevel', are.equal_to('Two-year')).group('cohort', collect = np.mean)\n",
    "\n",
    "ca_mobility_four_year = ca_mobility_panel.where('type', are.equal_to('Public')\n",
    "                                             ).where('iclevel', are.equal_to('Four-year')).group('cohort', collect = np.mean)\n",
    "\n",
    "plt.plot(ca_mobility_two_year.column('cohort'), ca_mobility_two_year.column('par_q1 mean'), label = 'Two-year')\n",
    "plt.plot(ca_mobility_four_year.column('cohort'), ca_mobility_four_year.column('par_q1 mean'), label = 'Four-year')\n",
    "plt.title('Low-Income Percent of Enrollment in Calfornia Public Institutions, by Type')\n",
    "plt.legend()"
   ]
  },
  {
   "cell_type": "markdown",
   "metadata": {},
   "source": [
    "A couple of key takeaways from this figure:\n",
    "* the *level* of `access` is significantly higher at two-year colleges.\n",
    "* The decline in `access` over time is much steeper for 4-year colleges."
   ]
  },
  {
   "cell_type": "markdown",
   "metadata": {},
   "source": [
    "** 3.4 ** Finally, for comparison's sake, let’s check how low-income access is evolving at private 4-year institutions in California. \n",
    "\n",
    "Perhaps there is some substitution to these institutions, some of which have increased their financial aid offerings over time."
   ]
  },
  {
   "cell_type": "code",
   "execution_count": null,
   "metadata": {},
   "outputs": [],
   "source": [
    "#use similar code as above, except replace public two-year institutions with private four-year institutions\n"
   ]
  },
  {
   "cell_type": "markdown",
   "metadata": {},
   "source": [
    "In fact, low-income access is also declining at private colleges and universities (note the change in veritcal axis scale).\n",
    "\n",
    "If you're interested in these data, you can play around with [this data exploration tool](https://www.nytimes.com/interactive/projects/college-mobility/) put together by the New York Times."
   ]
  },
  {
   "cell_type": "markdown",
   "metadata": {},
   "source": [
    "To submit the lab, just run this cell below:"
   ]
  },
  {
   "cell_type": "code",
   "execution_count": null,
   "metadata": {},
   "outputs": [],
   "source": [
    "####### ADD OK AUTH ##########"
   ]
  }
 ],
 "metadata": {
  "kernelspec": {
   "display_name": "Python 3",
   "language": "python",
   "name": "python3"
  },
  "language_info": {
   "codemirror_mode": {
    "name": "ipython",
    "version": 3
   },
   "file_extension": ".py",
   "mimetype": "text/x-python",
   "name": "python",
   "nbconvert_exporter": "python",
   "pygments_lexer": "ipython3",
   "version": "3.6.1"
  }
 },
 "nbformat": 4,
 "nbformat_minor": 2
}
