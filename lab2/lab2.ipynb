{
 "cells": [
  {
   "cell_type": "markdown",
   "metadata": {},
   "source": [
    "## Lab 2\n",
    "### UGBA 96: Data and Decisions\n",
    "\n",
    "<img src=\"Ctrip-logo.png\" alt=\"Drawing\" style=\"width: 400px;\"/>\n",
    "\n",
    "## Does Working From Home Work?\n",
    "\n",
    "\n",
    "In this demonstration we will analyze data from a 2010 field experiment. Bloom et al. (2014) evaluate an experiment at Ctrip, China's largest travel agency. At the time of the study, the company had 16,000 employees and a $7 billion valuation.\n",
    "\n",
    "Ctrip was considering allowing Working From Home (WFH) to save on office rent. However, they were worried that employees may not work as hard at home. To better understand what impact this policy would have, they ran an experiment.\n",
    "\n",
    "The site for the experiment was Ctrip's airfare and hotel departments in Shanghai. These departments take calls and make bookings. Employees typically work 5 shifts a week in teams of about 15 people, plus a manager.\n",
    "\n",
    "We'll analyze the experiment Ctrip ran in the next section and provide more details on how the experiment worked. For now, you only need to know that:\n",
    "   * In order to qualify for WFH, employees must have their own room, broadband internet, and 6+ months of experience in their current position.\n",
    "   * After the experiment ended, all qualifying workers were given the option to WFH or in the office.\n",
    "\n",
    "*Dependencies:* \n",
    "\n",
    "Numpy"
   ]
  },
  {
   "cell_type": "code",
   "execution_count": 1,
   "metadata": {},
   "outputs": [],
   "source": [
    "from datascience import *\n",
    "import numpy as np\n",
    "%matplotlib inline"
   ]
  },
  {
   "cell_type": "markdown",
   "metadata": {},
   "source": [
    "### Who Chooses to Work from Home?\n",
    "\n",
    "<img src=\"wfh_example.png\" alt=\"Drawing\" style=\"width: 400px;\"/>\n",
    "<center>An employee working from home</center>\n",
    "\n",
    "We will first look at data from after the experiment ended and compare workers that *chose* to work from home to those that *chose* to work at the office. In the absence of an experiment, it would be natural to compare performance for these two groups of workers to better understand the impact of WFH on productivity.\n",
    "\n",
    "**1.** First, we'll read in the data from the experiment and see what we have.  The data are called \"wfh_obs.csv\"."
   ]
  },
  {
   "cell_type": "code",
   "execution_count": null,
   "metadata": {},
   "outputs": [],
   "source": [
    "workers = ..."
   ]
  },
  {
   "cell_type": "markdown",
   "metadata": {},
   "source": [
    "Each row corresponds to a specific employee, indexed by `personid`. Note the variables that are included in the data. Most are self-explanatory, but there are a couple that require some explanation:\n",
    "\n",
    "   `wfh`: Whether the employee Works From Home. This takes a value of 1 for employees that WFH, and 0 for employees that work from the office. (Note: variables that only take the values `0` and `1` are called **dummy** or **indicator** variables. `wfh` is a 'dummy variable for whether an employee Works From Home.')\n",
    "\n",
    "   `tenure`: Tenure at the company in months.\n",
    "   \n",
    "   `grosswage`: Gross wage (1000 Yuan).\n",
    "   \n",
    "   `bedroom`: Whether the employee has their own bedroom.\n",
    "   \n",
    "   `commute`: Commute time to and from office recorded in minutes.\n",
    "   \n",
    "   `high_educ`: College education and above."
   ]
  },
  {
   "cell_type": "markdown",
   "metadata": {},
   "source": [
    "**2.** Consider the columns available in the table that describe each worker. What categories of workers do you expect are more likely *to choose* to work from home?"
   ]
  },
  {
   "cell_type": "raw",
   "metadata": {},
   "source": [
    "-write your answer here."
   ]
  },
  {
   "cell_type": "markdown",
   "metadata": {},
   "source": [
    "**3.** Let's compare workers that choose to work from home to those that don't. Produce the averages for each column, grouped on `wfh`.\n",
    "\n",
    "(Note: Use the parameter `collect` to calculate the averages. When you do this, some values won't appear. We'll discuss this issue next.)"
   ]
  },
  {
   "cell_type": "code",
   "execution_count": null,
   "metadata": {},
   "outputs": [],
   "source": [
    "..."
   ]
  },
  {
   "cell_type": "markdown",
   "metadata": {},
   "source": [
    "This table has some of the right values, but seems to be missing certain values. This is because the **np.mean function ** can only take in numerical arguments. For `children` and `bedroom`, the problem is that the values are recorded as 'yes' and 'no'. This is a **boolean** column--it only takes two values that indicate `TRUE` or `FALSE`. We can deal with these issues by turning `children` and `bedroom` from boolean into numeric variables.\n",
    "\n",
    "We can start by modifying the `children` and `bedroom` columns, so that they contain a `1` for a 'yes' and a `0` for a 'no'.\n",
    "\n",
    "\n",
    "This is done by:\n",
    "\n",
    "1) Converting the variable into a boolean (TRUE/FALSE) based on the membership criteria we described above\n",
    "\n",
    "2) Using built-in packages to convert arrays of booleans into 1s and 0s\n",
    "\n",
    "3) Replacing the named columns with the transformed values"
   ]
  },
  {
   "cell_type": "code",
   "execution_count": null,
   "metadata": {
    "scrolled": true
   },
   "outputs": [],
   "source": [
    "#this cell converts and children and bedroom into 0/1 variables and stores them in the table workers_clean\n",
    "worker_children = np.int32(workers.column('children') == 'yes')\n",
    "worker_bedroom = np.int32(workers.column('bedroom') == 'yes')\n",
    "\n",
    "workers_clean = workers.with_columns(['children', worker_children, 'bedroom', worker_bedroom])\n",
    "workers_clean"
   ]
  },
  {
   "cell_type": "markdown",
   "metadata": {},
   "source": [
    "<br>\n",
    "\n",
    "Then we can re-compute the means using the cleaned up data. Use the same calculations to group and calculate averages as above.\n",
    "\n",
    "<br>"
   ]
  },
  {
   "cell_type": "code",
   "execution_count": null,
   "metadata": {
    "scrolled": true
   },
   "outputs": [],
   "source": [
    "..."
   ]
  },
  {
   "cell_type": "markdown",
   "metadata": {},
   "source": [
    "** 4. ** How do these differences compare to your expectations described in question **(2)**?"
   ]
  },
  {
   "cell_type": "raw",
   "metadata": {},
   "source": [
    "-write your answer here."
   ]
  },
  {
   "cell_type": "markdown",
   "metadata": {},
   "source": [
    "Let's take a closer look at one column in particular, `commute`. Recall that this measures an employee's normal commute time to the office in minutes. The average value for `commute` is substantially larger among those who choose to work from home. This is not too surprising--the more painful the *commute*, the more willing we would expect someone to be to avoid it. \n",
    "\n",
    "This is a form of **selection bias**. When we compare workers that *choose* to work from home to workers that *choose* to come into the office, we are not comparing like with like. We would like to determine the *causal effect* of working from home on employee productivity. But comparing these two groups of workers alone probably won't get us there. Productivity may differ between the two groups for reasons beyond work location. Can you think of reasons why? \n",
    "\n",
    "In particular, using the notation from class, we may worry that:\n",
    "\n",
    "$$E[Y_{0} | \\text{Work From Home}] \\ne E[Y_{0} | \\text{Work From Office}]$$\n",
    "\n",
    "Where $Y$ is productivity, and $Y_{0}$ is productivity under the control condition, that is while *working from the office*. Recall that quantity on the left--the *counterfactual* productivity for employees that Work From Home if they were to work in the office--is something that we *do not observe*. So, we can't actually check whether the two quantities differ.\n",
    "\n",
    "Why may those two quantities be different? For example, those who were willing to commute such a long distance in the first place may tend to be more dedicated employees. On the other hand, those with longer commutes may be less productive in the office because they are more fatigued."
   ]
  },
  {
   "cell_type": "markdown",
   "metadata": {},
   "source": [
    "## Solution: Run an Experiment\n",
    "\n",
    "<img src=\"drawing.png\" alt=\"Drawing\" style=\"width: 400px;\"/>\n",
    "\n",
    "<center>The lottery drawing</center>\n",
    "\n",
    "**Selection bias** makes it difficult to measure the causal effect of a treatment. As we discussed in lecture, the best solution to the problem of selection bias is to run an **experiment.** This makes treatment assignment *independent* of potential outcomes. Let's discuss Ctrip's experiment in more detail.\n",
    "\n",
    "To recruit participants in the experiment, Ctrip asked 996 employees if they wanted to work from home 4 days a week. 508 volunteered. To participate in the experiment, Ctrip also required that the employee met additional requirements, including having their own room, broadband internet, and 6+ months of experience in the position. The final experiment group consisted of 255 employees.\n",
    "\n",
    "The **treatment group** worked 4 shifts a week at home and 1 shift a week in the office, for 9 months.\n",
    "\n",
    "The **control group** worked all 5 shifts in the office.\n",
    "\n",
    "Otherwise treatment and control groups were identical: they had the same shift, same equipment, same work-flow, and same pay structure.\n",
    "\n",
    "To assign employees to the treatment and control groups, Ctrip held a lottery. After a drawing, employees with even birthdays were assigned to the WFH treatment, while those with odd birthdays were assigned to the control group, and worked in the office as before.\n",
    "\n",
    "Let's analyze the results.\n",
    "\n",
    "**5.** First, let's read in the data from the experiment. The set of columns are similar, with some differences. We'll transform `children` and `bedroom` as above."
   ]
  },
  {
   "cell_type": "code",
   "execution_count": null,
   "metadata": {},
   "outputs": [],
   "source": [
    "experiment = Table.read_table('wfh_exp.csv')\n",
    "\n",
    "#fill in the blanks here\n",
    "exp_children = ...\n",
    "exp_bedroom = ...\n",
    "\n",
    "experiment_clean = experiment.with_columns(['children', exp_children, 'bedroom', exp_bedroom])\n",
    "experiment_clean"
   ]
  },
  {
   "cell_type": "markdown",
   "metadata": {},
   "source": [
    "Here the variable `treatment` indicates whether an individual was assigned to the treatment group. A value of 0 means the employee was assigned to the control group. A value of 1 means he or she was assigned to the treatment group.\n",
    "\n",
    "We also have two measures of performance, `performance_pre` and `performance`. The scale for these measures requires some explanation. \n",
    "\n",
    "These measures summarize a variety of performance metrics, including the number of phone calls an employee answers, the number of orders taken, and the number of reservation phone calls made. Those performance metrics are combined into one index and then *normalized* to have mean 0 and standard deviation 1 over a period *prior to* the experiment. For example, a `performance` value of 1 would mean an employee had a performance level that was one standard deviation *greater* than the average employee during the pre-experiment period. A negative value of -1 would indicate a performance level that was one standard deviation *lower* than the average employee during the pre-experiment period.\n",
    "\n",
    "`performance_pre` and `performance` differ in the work period that they cover:\n",
    "\n",
    "`performance_pre`: This is a summary metric of an employee's work performance *prior to* the experiment.\n",
    "\n",
    "`performance`: This is a summary metric of an employee's work performance *during* the experiment. It uses the same normalization as `performance_pre`.\n",
    "\n",
    "Another note on these data: rather than `commute` from before, we now have a `costofcommute`, which measures the cost of an employee's commute in Yuan.\n",
    "\n",
    "<br>\n",
    "\n",
    "**6.** Compare average characteristics for workers in the treatment and control groups. This can still be done with the group function."
   ]
  },
  {
   "cell_type": "code",
   "execution_count": null,
   "metadata": {},
   "outputs": [],
   "source": [
    "treatment_vs_control = ...\n",
    "treatment_vs_control"
   ]
  },
  {
   "cell_type": "markdown",
   "metadata": {},
   "source": [
    "In general, the two groups of workers are more comparable than the two groups we compared in the previous section. This is to be expected given the (mostly) random assignment of employees to the treatment and control groups. We would not expect people born on even and odd days to be systematically different.\n",
    "\n",
    "Note that there are still some noticeable differences between the treatment and control groups. In particular, the control group is more likely to have children and to be married. These kinds of differences may emerge by chance, even under random assignment. But could they reflect systematic differences between employees born on even and odd days? Later on in Data 8 and this course, we'll discuss how to evaluate the size of these differences."
   ]
  },
  {
   "cell_type": "markdown",
   "metadata": {},
   "source": [
    "### Changes in Productivity?\n",
    "\n",
    "Finally, let's examine how worker *performance* compares in the treatment and control groups. Performance during the experiment period is reported in the column `performance`."
   ]
  },
  {
   "cell_type": "markdown",
   "metadata": {},
   "source": [
    "**7. ** Make a bar chart that plots the averages of `performance_pre` and `performance` for the treatment and control groups. In total, your figure should include four bars.\n",
    "\n",
    "You can use the treatment_vs_control table created earlier, however you need to be sure to only select the relevant columns, which are `treatment` , `performance mean`, and `performance_pre mean`. The call will look like *table.select().barh()*."
   ]
  },
  {
   "cell_type": "code",
   "execution_count": null,
   "metadata": {},
   "outputs": [],
   "source": [
    "#bar chart of baseline experiment period performance by treatment group\n",
    "\n",
    "..."
   ]
  },
  {
   "cell_type": "markdown",
   "metadata": {},
   "source": [
    "At baseline, productivity in the treatment and control groups are quite similar. This is what we should expect under random assignment.\n",
    "\n",
    "However, during the experiment period *large differences* in productivity emerge. In particular, `performance` is large in magnitude and *negative* in the control group. This indicates that, for whatever reason, average productivity was lower in the control group during the experiment period than in the baseline period. This might reflect that the experiment happened to coincide with a down period for the company.\n",
    "\n",
    "By contrast, the `peformance` in the treatment group is mostly unchanged.\n",
    "\n",
    "**The difference in `performance` between the treatment and control groups reflects the *causal* effect of working from home on productivity. Our estimate for the causal effect of WFH is that it increases average performance by about 0.35 standard deviations.** This corresponds to about 15% more calls handled per day.\n",
    "\n",
    "### What Did Ctrip Learn?\n",
    "\n",
    "The overall impact of WFH was quite positive. The firm improved productivity by between 20% to 30% and saved about\n",
    "$2,000 a year per employee that was working from home. These gains came from the reduction in required office space, improved employee performance, and reduced turnover. [We will discuss the turnover results in more detail when we discuss Attrition in Week 7.]\n",
    "\n",
    "The success of the experiment led Ctrip to offer the option to work from home to all qualifying employees. They also allowed treatment group employees to return to the office.\n",
    "\n",
    "In what was a surprise to management, despite the gains in performance, after the experiment half of treatment group employees decided to return to the office, and two thirds of the control group (who had earlier volunteered to work from hom) decided to stay in the office. The primary reason for switching was the concern over the loneliness and social isolation of working from home. Treatment group workers that performed badly while working at home were also more likely to switch back to office work.\n",
    "\n",
    "<img src=\"post_experiment.png\" alt=\"Drawing\" style=\"width: 500px;\"/>"
   ]
  },
  {
   "cell_type": "code",
   "execution_count": null,
   "metadata": {},
   "outputs": [],
   "source": [
    "from client.api.notebook import Notebook\n",
    "ok = Notebook('lab2.ok')\n",
    "_ = ok.auth(inline=True)\n",
    "_ = ok.submit()"
   ]
  }
 ],
 "metadata": {
  "kernelspec": {
   "display_name": "Python 3",
   "language": "python",
   "name": "python3"
  },
  "language_info": {
   "codemirror_mode": {
    "name": "ipython",
    "version": 3
   },
   "file_extension": ".py",
   "mimetype": "text/x-python",
   "name": "python",
   "nbconvert_exporter": "python",
   "pygments_lexer": "ipython3",
   "version": "3.6.1"
  }
 },
 "nbformat": 4,
 "nbformat_minor": 2
}
