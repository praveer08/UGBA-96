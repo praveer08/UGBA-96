{
 "cells": [
  {
   "cell_type": "markdown",
   "metadata": {},
   "source": [
    "## Problem Set 1\n",
    "### UGBA 96: Data and Decisions, Spring 2018"
   ]
  },
  {
   "cell_type": "code",
   "execution_count": 2,
   "metadata": {
    "collapsed": true
   },
   "outputs": [],
   "source": [
    "from datascience import *\n",
    "import matplotlib\n",
    "import numpy as np\n",
    "import pandas as pd\n",
    "matplotlib.use('Agg', warn=False)\n",
    "%matplotlib inline"
   ]
  },
  {
   "cell_type": "markdown",
   "metadata": {},
   "source": [
    "Deadline:\n",
    "\n",
    "This assignment is due Monday, February 12 at noon (12pm). Late work will not be accepted.\n",
    "\n",
    "You should start early so that you have time to get help if you're stuck. Drop-in office hours will be held Monday-Friday. Check the syllabus and recent announcements for the office hours schedule."
   ]
  },
  {
   "cell_type": "markdown",
   "metadata": {},
   "source": [
    "## Question 1\n",
    "\n",
    "(20 points) Based on a brief description of the survey, answer a series of questions about the survey characteristics.\n",
    "\n",
    "A management consultant company emailed a questionnaire to the human resource directors of a random sample of US publicly traded companies, and received responses from 35% of them. Among those who responded, 30% reported that they did not find that the surveys intruded significantly on their workday."
   ]
  },
  {
   "cell_type": "markdown",
   "metadata": {},
   "source": [
    "a. (4 points) What is the population of interest?"
   ]
  },
  {
   "cell_type": "raw",
   "metadata": {},
   "source": []
  },
  {
   "cell_type": "markdown",
   "metadata": {},
   "source": [
    "b. (4 points) What is the parameter of interest?"
   ]
  },
  {
   "cell_type": "raw",
   "metadata": {},
   "source": []
  },
  {
   "cell_type": "markdown",
   "metadata": {},
   "source": [
    "c. (4 points) What is the sampling frame?"
   ]
  },
  {
   "cell_type": "raw",
   "metadata": {},
   "source": []
  },
  {
   "cell_type": "markdown",
   "metadata": {},
   "source": [
    "d. (4 points) What is the sampling design?"
   ]
  },
  {
   "cell_type": "raw",
   "metadata": {},
   "source": []
  },
  {
   "cell_type": "markdown",
   "metadata": {},
   "source": [
    "e. (4 points) What are potential sources of bias, or other problems with the survey or sample?"
   ]
  },
  {
   "cell_type": "raw",
   "metadata": {},
   "source": []
  },
  {
   "cell_type": "markdown",
   "metadata": {},
   "source": [
    "## Question 2\n",
    "\n",
    "(20 points) Based on a brief description of the survey, answer a series of questions about the survey characteristics.\n",
    "\n",
    "Inspectors from the food-safety division of the Department of Agriculture visit dairy farms unannounced and take samples of the milk to test for contamination. If the samples are found to contain dirt, antibiotics unsuited for human consumption, or other foreign matter, the milk will be destroyed and the farm sanctioned."
   ]
  },
  {
   "cell_type": "markdown",
   "metadata": {},
   "source": [
    "a. (4 points) What is the population of interest?"
   ]
  },
  {
   "cell_type": "raw",
   "metadata": {},
   "source": []
  },
  {
   "cell_type": "markdown",
   "metadata": {},
   "source": [
    "b. (4 points) What is the parameter of interest?"
   ]
  },
  {
   "cell_type": "raw",
   "metadata": {},
   "source": []
  },
  {
   "cell_type": "markdown",
   "metadata": {},
   "source": [
    "c. (4 points) What is the sampling frame?"
   ]
  },
  {
   "cell_type": "raw",
   "metadata": {},
   "source": []
  },
  {
   "cell_type": "markdown",
   "metadata": {},
   "source": [
    "d. (4 points) What is the sampling design?"
   ]
  },
  {
   "cell_type": "raw",
   "metadata": {},
   "source": []
  },
  {
   "cell_type": "markdown",
   "metadata": {},
   "source": [
    "e. (4 points) What are potential sources of bias, or other problems with the survey or sample?"
   ]
  },
  {
   "cell_type": "raw",
   "metadata": {},
   "source": []
  },
  {
   "cell_type": "markdown",
   "metadata": {},
   "source": [
    "## Question 3\n",
    "(35 points) A medical device company has surveyed a sample doctors that use their products on customer satisfaction. The original sampling frame was a simple random sample of all such doctors. In this questions, we will look at response rates to the survey and summarize overall customer satisfaction.\n",
    "\n",
    "The data contain the list of doctors that were sent the survey, whether the doctor responded to the survey, and the doctor’s reported satisfaction with the company’s devices (measured on a 1-5 scale, where ‘1’ indicates ‘not satisfied at all’ and ‘5’ indicates ‘completely satisfied’). The data also include the doctor’s hospital size, which historically has been a key distinguishing feature of the company’s customers. The company divides its customers into three categories depending on their hospital size: small (1-50 beds), medium (51-500 beds), and large (501+ beds)."
   ]
  },
  {
   "cell_type": "code",
   "execution_count": 4,
   "metadata": {},
   "outputs": [
    {
     "data": {
      "text/html": [
       "<table border=\"1\" class=\"dataframe\">\n",
       "    <thead>\n",
       "        <tr>\n",
       "            <th>doctor_id</th> <th>hospital_type</th> <th>response</th> <th>satisfaction</th>\n",
       "        </tr>\n",
       "    </thead>\n",
       "    <tbody>\n",
       "        <tr>\n",
       "            <td>1        </td> <td>large        </td> <td>0       </td> <td>nan         </td>\n",
       "        </tr>\n",
       "    </tbody>\n",
       "        <tr>\n",
       "            <td>2        </td> <td>small        </td> <td>0       </td> <td>nan         </td>\n",
       "        </tr>\n",
       "    </tbody>\n",
       "        <tr>\n",
       "            <td>3        </td> <td>small        </td> <td>1       </td> <td>3           </td>\n",
       "        </tr>\n",
       "    </tbody>\n",
       "        <tr>\n",
       "            <td>4        </td> <td>small        </td> <td>0       </td> <td>nan         </td>\n",
       "        </tr>\n",
       "    </tbody>\n",
       "        <tr>\n",
       "            <td>5        </td> <td>small        </td> <td>1       </td> <td>1           </td>\n",
       "        </tr>\n",
       "    </tbody>\n",
       "        <tr>\n",
       "            <td>6        </td> <td>medium       </td> <td>0       </td> <td>nan         </td>\n",
       "        </tr>\n",
       "    </tbody>\n",
       "        <tr>\n",
       "            <td>7        </td> <td>medium       </td> <td>1       </td> <td>4           </td>\n",
       "        </tr>\n",
       "    </tbody>\n",
       "        <tr>\n",
       "            <td>8        </td> <td>small        </td> <td>0       </td> <td>nan         </td>\n",
       "        </tr>\n",
       "    </tbody>\n",
       "        <tr>\n",
       "            <td>9        </td> <td>large        </td> <td>0       </td> <td>nan         </td>\n",
       "        </tr>\n",
       "    </tbody>\n",
       "        <tr>\n",
       "            <td>10       </td> <td>small        </td> <td>1       </td> <td>3           </td>\n",
       "        </tr>\n",
       "    </tbody>\n",
       "</table>\n",
       "<p>... (10290 rows omitted)</p"
      ],
      "text/plain": [
       "doctor_id | hospital_type | response | satisfaction\n",
       "1         | large         | 0        | nan\n",
       "2         | small         | 0        | nan\n",
       "3         | small         | 1        | 3\n",
       "4         | small         | 0        | nan\n",
       "5         | small         | 1        | 1\n",
       "6         | medium        | 0        | nan\n",
       "7         | medium        | 1        | 4\n",
       "8         | small         | 0        | nan\n",
       "9         | large         | 0        | nan\n",
       "10        | small         | 1        | 3\n",
       "... (10290 rows omitted)"
      ]
     },
     "execution_count": 4,
     "metadata": {},
     "output_type": "execute_result"
    }
   ],
   "source": [
    "#read in hospital survey data\n",
    "hospital_data = Table.read_table('hospital_survey.csv')\n",
    "hospital_data"
   ]
  },
  {
   "cell_type": "markdown",
   "metadata": {},
   "source": [
    "a. (2 points) Let’s start by getting a feel for what’s contained in these data. What are the names of the table columns?"
   ]
  },
  {
   "cell_type": "code",
   "execution_count": null,
   "metadata": {
    "collapsed": true
   },
   "outputs": [],
   "source": []
  },
  {
   "cell_type": "markdown",
   "metadata": {},
   "source": [
    "b. (2 points) Using the description of the data given above, describe the meaning of each variable name."
   ]
  },
  {
   "cell_type": "raw",
   "metadata": {},
   "source": [
    "doctor_id: ...\n",
    "\n",
    "hospital_type: ...\n",
    "\n",
    "response: ...\n",
    "\n",
    "satisfaction: ..."
   ]
  },
  {
   "cell_type": "markdown",
   "metadata": {},
   "source": [
    "c. (2 points) How many doctors were surveyed? How many doctors returned responses?"
   ]
  },
  {
   "cell_type": "code",
   "execution_count": null,
   "metadata": {
    "collapsed": true
   },
   "outputs": [],
   "source": [
    "#calculate number of doctors surveyed"
   ]
  },
  {
   "cell_type": "code",
   "execution_count": null,
   "metadata": {
    "collapsed": true
   },
   "outputs": [],
   "source": [
    "#calculate number of responses"
   ]
  },
  {
   "cell_type": "raw",
   "metadata": {},
   "source": [
    "#write answer here"
   ]
  },
  {
   "cell_type": "markdown",
   "metadata": {},
   "source": [
    "d. (2 points) Now, let’s look at the actual responses. What is the average value of `satisfaction` *among respondents*?"
   ]
  },
  {
   "cell_type": "code",
   "execution_count": null,
   "metadata": {
    "collapsed": true
   },
   "outputs": [],
   "source": [
    "#calculate average here"
   ]
  },
  {
   "cell_type": "raw",
   "metadata": {},
   "source": [
    "#write answer here"
   ]
  },
  {
   "cell_type": "markdown",
   "metadata": {},
   "source": [
    "e. (3 points) Create two bar plots of `hospital_type`: one for all doctors that received the survey and another for doctors that responded. How do the two distributions compare?"
   ]
  },
  {
   "cell_type": "code",
   "execution_count": null,
   "metadata": {
    "collapsed": true
   },
   "outputs": [],
   "source": [
    "#create the first plot here\n"
   ]
  },
  {
   "cell_type": "code",
   "execution_count": null,
   "metadata": {},
   "outputs": [],
   "source": [
    "#create the second plot here\n"
   ]
  },
  {
   "cell_type": "raw",
   "metadata": {},
   "source": []
  },
  {
   "cell_type": "markdown",
   "metadata": {},
   "source": [
    "f. (3 points) What can you infer about response rates differences by `hospital_type` based on these figures?"
   ]
  },
  {
   "cell_type": "raw",
   "metadata": {},
   "source": []
  },
  {
   "cell_type": "markdown",
   "metadata": {},
   "source": [
    "g. (2 points) Among respondents, what is the average value of `satisfaction` by `hospital_type`?"
   ]
  },
  {
   "cell_type": "code",
   "execution_count": null,
   "metadata": {
    "collapsed": true
   },
   "outputs": [],
   "source": [
    "#calculate average here"
   ]
  },
  {
   "cell_type": "raw",
   "metadata": {},
   "source": [
    "#write answer here"
   ]
  },
  {
   "cell_type": "markdown",
   "metadata": {},
   "source": [
    "h. (2 points) What problem do your answers to (f) and (g) present for interpreting the survey?"
   ]
  },
  {
   "cell_type": "raw",
   "metadata": {},
   "source": []
  },
  {
   "cell_type": "markdown",
   "metadata": {},
   "source": [
    "i. (3 points) When survey response rates vary systematically by group, a common approach is to use sample weights. The general idea is to put more weight on responses from groups that are underrepresented among survey respondents to make the survey data more representative of the population. For example, many general population surveys find that women are more likely to respond than men, so that the fraction of respondents that are women is larger than the fraction of the population that are women. Let’s weight our survey data based on subscriber tenure.\n",
    "\n",
    "The weights we will use are the following:\n",
    "$w_g = \\frac{\\text{group } g \\text{'s population share}}{\\text{group } g \\text{'s respondents share}}$\n",
    "\n",
    "Add a column `weights` of survey weights to the table `hospital_data`."
   ]
  },
  {
   "cell_type": "code",
   "execution_count": null,
   "metadata": {
    "collapsed": true
   },
   "outputs": [],
   "source": [
    "#add column `weights` and print table"
   ]
  },
  {
   "cell_type": "markdown",
   "metadata": {},
   "source": [
    "j. (8 points) To apply these weights, let’s first introduce the concept of a weighted average. For an array of values $x_1, x_2, ...,x_n$ and weights $w_1, w_2, ..., w_n$, the average is $\\bar{x}_w=\\frac{w_1x_1+...+w_nx_n}{w_1+...+w_n}=\\frac{\\sum_i^n w_ix_i}{\\sum w_i}$.\n",
    "\n",
    "Define a new column `large` that is equal to 1 if the doctor’s `hospital_type` = 'large’ and zero otherwise. Create a **function** that takes as inputs a column of `values` and a column of `weights` and produces a weighted average of `values`. What is the weighted average for `large` among respondents? How does that compare to the (unweighted) average for `large` among those surveyed?"
   ]
  },
  {
   "cell_type": "code",
   "execution_count": null,
   "metadata": {
    "collapsed": true
   },
   "outputs": [],
   "source": [
    "#add column `large` and print table"
   ]
  },
  {
   "cell_type": "code",
   "execution_count": null,
   "metadata": {},
   "outputs": [],
   "source": [
    "#create weighted average function\n",
    "def weighted_avg(values, weights):\n",
    "    ..."
   ]
  },
  {
   "cell_type": "code",
   "execution_count": null,
   "metadata": {},
   "outputs": [],
   "source": [
    "#calculate weighted average of `large`"
   ]
  },
  {
   "cell_type": "code",
   "execution_count": null,
   "metadata": {},
   "outputs": [],
   "source": [
    "#calculate unweighted average of `large`"
   ]
  },
  {
   "cell_type": "raw",
   "metadata": {},
   "source": [
    "#write answer here"
   ]
  },
  {
   "cell_type": "markdown",
   "metadata": {},
   "source": [
    "k. (3 points) Using these weights, what is the average satisfaction? How does this compare to your answer to part (f)?"
   ]
  },
  {
   "cell_type": "code",
   "execution_count": null,
   "metadata": {
    "collapsed": true
   },
   "outputs": [],
   "source": [
    "#calculate weighted average "
   ]
  },
  {
   "cell_type": "raw",
   "metadata": {},
   "source": []
  },
  {
   "cell_type": "markdown",
   "metadata": {},
   "source": [
    "l. (3 points) Do you have any remaining concerns about the survey response rates? If so, what and why?"
   ]
  },
  {
   "cell_type": "raw",
   "metadata": {},
   "source": []
  },
  {
   "cell_type": "markdown",
   "metadata": {},
   "source": [
    "## Question 4\n",
    "(20 points) A small business lender would like to better screen loan applicants using data on past loans. The data include all past loans originated by the lender, and whether the borrower repaid the loan on time.\n",
    "\n",
    "Historically, the lender has preferred to make loans to small businesses where the owner has a personal credit score above 600. However, after analyzing the historical loan data, the lender reaches a surprising conclusion: their loans to businesses with credit scores above and below 600 have performed equally well. This causes some to reconsider whether their preference for small businesses with credit scores above 600 is warranted.\n",
    "\n",
    "Suppose repayment is the only relevant performance metric and that there is a substantial amount of historical loan data for both small businesses with high and low credit scores."
   ]
  },
  {
   "cell_type": "markdown",
   "metadata": {},
   "source": [
    "Do the data imply that the small business lender should drop their preference for small businesses with credit scores above 600?"
   ]
  },
  {
   "cell_type": "code",
   "execution_count": null,
   "metadata": {
    "collapsed": true
   },
   "outputs": [],
   "source": []
  },
  {
   "cell_type": "markdown",
   "metadata": {},
   "source": [
    "Why or why not? (Hint: consider whether historical loan data are representative of the lender’s population of interest.)"
   ]
  },
  {
   "cell_type": "code",
   "execution_count": null,
   "metadata": {
    "collapsed": true
   },
   "outputs": [],
   "source": []
  },
  {
   "cell_type": "markdown",
   "metadata": {},
   "source": [
    "## Question 5\n",
    "(30 points) The dataset you will analyze in this exercise is a random sample of all recent roundtrip airline tickets purhased for travel between New York’s John F. Kennedy Airport (JFK) and Los Angeles Airport (LAX). First-class fares have been excluded. For each ticket the data includes the following variables:\n",
    "\n",
    "1. `carrier`: the airline\n",
    "2. `rtrip_fare`: round trip fare\n",
    "3. `advance`: number of days in advance of flight each ticket was purchased\n",
    "4. `busclass`: indicator for business class ('1' if business class, '0' if not)\n",
    "5. `nonrefundable`: indicator for whether a ticket purchased was a nonrefundable ticket\n",
    "6. `satstayover`: indicator for whether a roundtrip ticket includes a Saturday stayover in the destination location"
   ]
  },
  {
   "cell_type": "code",
   "execution_count": 4,
   "metadata": {},
   "outputs": [
    {
     "data": {
      "text/html": [
       "<table border=\"1\" class=\"dataframe\">\n",
       "    <thead>\n",
       "        <tr>\n",
       "            <th>carrier</th> <th>rtrip_fare</th> <th>advance</th> <th>busclass</th> <th>nonrefundable</th> <th>satstayover</th>\n",
       "        </tr>\n",
       "    </thead>\n",
       "    <tbody>\n",
       "        <tr>\n",
       "            <td>AA     </td> <td>158       </td> <td>14     </td> <td>0       </td> <td>1            </td> <td>0          </td>\n",
       "        </tr>\n",
       "    </tbody>\n",
       "        <tr>\n",
       "            <td>AA     </td> <td>159       </td> <td>52     </td> <td>0       </td> <td>1            </td> <td>1          </td>\n",
       "        </tr>\n",
       "    </tbody>\n",
       "        <tr>\n",
       "            <td>AA     </td> <td>159       </td> <td>15     </td> <td>0       </td> <td>1            </td> <td>0          </td>\n",
       "        </tr>\n",
       "    </tbody>\n",
       "        <tr>\n",
       "            <td>AA     </td> <td>160       </td> <td>28     </td> <td>0       </td> <td>1            </td> <td>1          </td>\n",
       "        </tr>\n",
       "    </tbody>\n",
       "        <tr>\n",
       "            <td>AA     </td> <td>160       </td> <td>24     </td> <td>0       </td> <td>1            </td> <td>1          </td>\n",
       "        </tr>\n",
       "    </tbody>\n",
       "        <tr>\n",
       "            <td>AA     </td> <td>160       </td> <td>28     </td> <td>0       </td> <td>1            </td> <td>0          </td>\n",
       "        </tr>\n",
       "    </tbody>\n",
       "        <tr>\n",
       "            <td>AA     </td> <td>165       </td> <td>22     </td> <td>0       </td> <td>1            </td> <td>1          </td>\n",
       "        </tr>\n",
       "    </tbody>\n",
       "        <tr>\n",
       "            <td>AA     </td> <td>165       </td> <td>15     </td> <td>0       </td> <td>1            </td> <td>0          </td>\n",
       "        </tr>\n",
       "    </tbody>\n",
       "        <tr>\n",
       "            <td>AA     </td> <td>165       </td> <td>17     </td> <td>0       </td> <td>1            </td> <td>1          </td>\n",
       "        </tr>\n",
       "    </tbody>\n",
       "        <tr>\n",
       "            <td>AA     </td> <td>165       </td> <td>26     </td> <td>0       </td> <td>1            </td> <td>1          </td>\n",
       "        </tr>\n",
       "    </tbody>\n",
       "</table>\n",
       "<p>... (10256 rows omitted)</p"
      ],
      "text/plain": [
       "carrier | rtrip_fare | advance | busclass | nonrefundable | satstayover\n",
       "AA      | 158        | 14      | 0        | 1             | 0\n",
       "AA      | 159        | 52      | 0        | 1             | 1\n",
       "AA      | 159        | 15      | 0        | 1             | 0\n",
       "AA      | 160        | 28      | 0        | 1             | 1\n",
       "AA      | 160        | 24      | 0        | 1             | 1\n",
       "AA      | 160        | 28      | 0        | 1             | 0\n",
       "AA      | 165        | 22      | 0        | 1             | 1\n",
       "AA      | 165        | 15      | 0        | 1             | 0\n",
       "AA      | 165        | 17      | 0        | 1             | 1\n",
       "AA      | 165        | 26      | 0        | 1             | 1\n",
       "... (10256 rows omitted)"
      ]
     },
     "execution_count": 4,
     "metadata": {},
     "output_type": "execute_result"
    }
   ],
   "source": [
    "#read in the ticket data\n",
    "ticket_data = Table.read_table('ticket_prices.csv')\n",
    "ticket_data"
   ]
  },
  {
   "cell_type": "markdown",
   "metadata": {},
   "source": [
    "a. (2 points) How many airlines are represented in these data?"
   ]
  },
  {
   "cell_type": "code",
   "execution_count": null,
   "metadata": {
    "collapsed": true
   },
   "outputs": [],
   "source": []
  },
  {
   "cell_type": "raw",
   "metadata": {},
   "source": [
    "#write answer here"
   ]
  },
  {
   "cell_type": "markdown",
   "metadata": {},
   "source": [
    "b. (3 points) Compute the mean and median round trip fare."
   ]
  },
  {
   "cell_type": "code",
   "execution_count": null,
   "metadata": {
    "collapsed": true
   },
   "outputs": [],
   "source": []
  },
  {
   "cell_type": "raw",
   "metadata": {},
   "source": [
    "#write answer here"
   ]
  },
  {
   "cell_type": "markdown",
   "metadata": {},
   "source": [
    "c. (2 points) The mean fare is larger than the median fare. What does this indicate about the distribution of fares?"
   ]
  },
  {
   "cell_type": "raw",
   "metadata": {},
   "source": []
  },
  {
   "cell_type": "markdown",
   "metadata": {},
   "source": [
    "d. (3 points) Create a histogram of trip fare. Why is there so much blank space on the right side of the histogram?"
   ]
  },
  {
   "cell_type": "code",
   "execution_count": null,
   "metadata": {
    "collapsed": true
   },
   "outputs": [],
   "source": []
  },
  {
   "cell_type": "raw",
   "metadata": {},
   "source": [
    "#write answer here"
   ]
  },
  {
   "cell_type": "markdown",
   "metadata": {},
   "source": [
    "e. (3 points) Create a histogram using only tickets under $1000."
   ]
  },
  {
   "cell_type": "code",
   "execution_count": null,
   "metadata": {
    "collapsed": true
   },
   "outputs": [],
   "source": []
  },
  {
   "cell_type": "markdown",
   "metadata": {},
   "source": [
    "f. (2 points) Is one of the airlines much cheaper on average than the other?"
   ]
  },
  {
   "cell_type": "code",
   "execution_count": null,
   "metadata": {
    "collapsed": true
   },
   "outputs": [],
   "source": []
  },
  {
   "cell_type": "raw",
   "metadata": {},
   "source": [
    "#write answer here"
   ]
  },
  {
   "cell_type": "markdown",
   "metadata": {},
   "source": [
    "g. (3 points) Measure the price difference between tickets with `satstayover` == 1 and `satstayover` == 0. Why do you think this price difference exists?"
   ]
  },
  {
   "cell_type": "code",
   "execution_count": null,
   "metadata": {
    "collapsed": true
   },
   "outputs": [],
   "source": []
  },
  {
   "cell_type": "raw",
   "metadata": {},
   "source": [
    "#write answer here"
   ]
  },
  {
   "cell_type": "markdown",
   "metadata": {},
   "source": [
    "In the next three exercises exercise we will document the relationship between advance and trip price."
   ]
  },
  {
   "cell_type": "markdown",
   "metadata": {},
   "source": [
    "h. (3 points) Create a scatter plot with `rtrip_fare` on the vertical axis and `advance` on the horizontal axis."
   ]
  },
  {
   "cell_type": "code",
   "execution_count": null,
   "metadata": {
    "collapsed": true
   },
   "outputs": [],
   "source": []
  },
  {
   "cell_type": "raw",
   "metadata": {},
   "source": []
  },
  {
   "cell_type": "markdown",
   "metadata": {},
   "source": [
    "i. (6 points) Next, we will use what’s called a \"bin scatter” plot to make this relationship even clearer. First, we group tickets into ventiles (like quartiles, except 20 groups instead of 4) based on their `advance` value. Then we calculate the average fare and average advance days by decline. Finally, we scatter plot those averages against each other. There should be 20 observations in total."
   ]
  },
  {
   "cell_type": "code",
   "execution_count": null,
   "metadata": {
    "collapsed": true
   },
   "outputs": [],
   "source": [
    "#the code below creates a column that maps each advance value to a ventile\n",
    "price_bins = pd.qcut(ticket_data.column('advance'), 20, labels=False)\n"
   ]
  },
  {
   "cell_type": "markdown",
   "metadata": {},
   "source": [
    "j. (2 points) What do you find interesting about this relationship?"
   ]
  },
  {
   "cell_type": "raw",
   "metadata": {},
   "source": []
  }
 ],
 "metadata": {
  "kernelspec": {
   "display_name": "Python 3",
   "language": "python",
   "name": "python3"
  },
  "language_info": {
   "codemirror_mode": {
    "name": "ipython",
    "version": 3
   },
   "file_extension": ".py",
   "mimetype": "text/x-python",
   "name": "python",
   "nbconvert_exporter": "python",
   "pygments_lexer": "ipython3",
   "version": "3.6.1"
  }
 },
 "nbformat": 4,
 "nbformat_minor": 1
}
